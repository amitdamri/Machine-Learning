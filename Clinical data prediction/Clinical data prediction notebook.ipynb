{
  "nbformat": 4,
  "nbformat_minor": 0,
  "metadata": {
    "accelerator": "GPU",
    "colab": {
      "name": "Assignment3.ipynb",
      "provenance": [],
      "collapsed_sections": [
        "qaMSASFqBwep",
        "KIqkVNC8B2Dg",
        "zZJIW2aMB5lf"
      ]
    },
    "kernelspec": {
      "display_name": "Python 3",
      "name": "python3"
    }
  },
  "cells": [
    {
      "cell_type": "markdown",
      "metadata": {
        "id": "yGLCv9rpEQ6x"
      },
      "source": [
        "# Imports + Downloading"
      ]
    },
    {
      "cell_type": "code",
      "metadata": {
        "colab": {
          "base_uri": "https://localhost:8080/"
        },
        "id": "7OFX_GSwp8Gs",
        "outputId": "7933e916-5893-4d8c-9837-14de0604b3f7"
      },
      "source": [
        "!pip install category_encoders"
      ],
      "execution_count": 1,
      "outputs": [
        {
          "output_type": "stream",
          "text": [
            "Requirement already satisfied: category_encoders in /usr/local/lib/python3.6/dist-packages (2.2.2)\n",
            "Requirement already satisfied: statsmodels>=0.9.0 in /usr/local/lib/python3.6/dist-packages (from category_encoders) (0.10.2)\n",
            "Requirement already satisfied: patsy>=0.5.1 in /usr/local/lib/python3.6/dist-packages (from category_encoders) (0.5.1)\n",
            "Requirement already satisfied: numpy>=1.14.0 in /usr/local/lib/python3.6/dist-packages (from category_encoders) (1.19.5)\n",
            "Requirement already satisfied: pandas>=0.21.1 in /usr/local/lib/python3.6/dist-packages (from category_encoders) (1.1.5)\n",
            "Requirement already satisfied: scipy>=1.0.0 in /usr/local/lib/python3.6/dist-packages (from category_encoders) (1.4.1)\n",
            "Requirement already satisfied: scikit-learn>=0.20.0 in /usr/local/lib/python3.6/dist-packages (from category_encoders) (0.22.2.post1)\n",
            "Requirement already satisfied: six in /usr/local/lib/python3.6/dist-packages (from patsy>=0.5.1->category_encoders) (1.15.0)\n",
            "Requirement already satisfied: python-dateutil>=2.7.3 in /usr/local/lib/python3.6/dist-packages (from pandas>=0.21.1->category_encoders) (2.8.1)\n",
            "Requirement already satisfied: pytz>=2017.2 in /usr/local/lib/python3.6/dist-packages (from pandas>=0.21.1->category_encoders) (2018.9)\n",
            "Requirement already satisfied: joblib>=0.11 in /usr/local/lib/python3.6/dist-packages (from scikit-learn>=0.20.0->category_encoders) (1.0.0)\n"
          ],
          "name": "stdout"
        }
      ]
    },
    {
      "cell_type": "code",
      "metadata": {
        "id": "f_unh-1lEOwG"
      },
      "source": [
        "import pandas as pd\r\n",
        "import numpy as np"
      ],
      "execution_count": 2,
      "outputs": []
    },
    {
      "cell_type": "code",
      "metadata": {
        "id": "8gy_2xRXv-Ay"
      },
      "source": [
        "%matplotlib inline\r\n",
        "import seaborn as sns\r\n",
        "import matplotlib.pyplot as plt\r\n",
        "sns.set()"
      ],
      "execution_count": 3,
      "outputs": []
    },
    {
      "cell_type": "code",
      "metadata": {
        "id": "BS5yNhKMIOxw",
        "colab": {
          "base_uri": "https://localhost:8080/"
        },
        "outputId": "f5fc7401-efe5-438d-a21b-3da3292dc08b"
      },
      "source": [
        "from sklearn.model_selection import train_test_split, KFold, GridSearchCV\r\n",
        "from sklearn.preprocessing import StandardScaler, OrdinalEncoder, MinMaxScaler\r\n",
        "from sklearn.metrics import classification_report, plot_confusion_matrix, roc_auc_score, confusion_matrix\r\n",
        "import imblearn\r\n",
        "import category_encoders as ce\r\n"
      ],
      "execution_count": 4,
      "outputs": [
        {
          "output_type": "stream",
          "text": [
            "/usr/local/lib/python3.6/dist-packages/sklearn/externals/six.py:31: FutureWarning: The module is deprecated in version 0.21 and will be removed in version 0.23 since we've dropped support for Python 2.7. Please rely on the official version of six (https://pypi.org/project/six/).\n",
            "  \"(https://pypi.org/project/six/).\", FutureWarning)\n",
            "/usr/local/lib/python3.6/dist-packages/sklearn/utils/deprecation.py:144: FutureWarning: The sklearn.neighbors.base module is  deprecated in version 0.22 and will be removed in version 0.24. The corresponding classes / functions should instead be imported from sklearn.neighbors. Anything that cannot be imported from sklearn.neighbors is now part of the private API.\n",
            "  warnings.warn(message, FutureWarning)\n",
            "/usr/local/lib/python3.6/dist-packages/statsmodels/tools/_testing.py:19: FutureWarning: pandas.util.testing is deprecated. Use the functions in the public API at pandas.testing instead.\n",
            "  import pandas.util.testing as tm\n"
          ],
          "name": "stderr"
        }
      ]
    },
    {
      "cell_type": "code",
      "metadata": {
        "id": "nKUvsqpYKrF3"
      },
      "source": [
        "from sklearn.linear_model import SGDClassifier, LogisticRegression\r\n",
        "from sklearn.svm import LinearSVC\r\n",
        "from sklearn.ensemble import AdaBoostClassifier \r\n",
        "from sklearn.tree import DecisionTreeClassifier\r\n",
        "from sklearn.dummy import DummyClassifier\r\n",
        "from keras.models import Sequential\r\n",
        "from keras.layers import Dense\r\n",
        "from keras.wrappers.scikit_learn import KerasClassifier"
      ],
      "execution_count": 5,
      "outputs": []
    },
    {
      "cell_type": "markdown",
      "metadata": {
        "id": "i3bXsceQ4qb5"
      },
      "source": [
        "# Loading the data"
      ]
    },
    {
      "cell_type": "code",
      "metadata": {
        "colab": {
          "base_uri": "https://localhost:8080/"
        },
        "id": "ZZOxRSl14tU6",
        "outputId": "7e623c73-093b-4e04-f61c-b83cc288239d"
      },
      "source": [
        "from google.colab import drive\r\n",
        "drive.mount('/content/gdrive')"
      ],
      "execution_count": 6,
      "outputs": [
        {
          "output_type": "stream",
          "text": [
            "Drive already mounted at /content/gdrive; to attempt to forcibly remount, call drive.mount(\"/content/gdrive\", force_remount=True).\n"
          ],
          "name": "stdout"
        }
      ]
    },
    {
      "cell_type": "code",
      "metadata": {
        "colab": {
          "base_uri": "https://localhost:8080/",
          "height": 422
        },
        "id": "AzCo6qqz4u9S",
        "outputId": "8bcdfd28-991a-43f4-f6dd-c2f37841f941"
      },
      "source": [
        "# load data into df variable\r\n",
        "df = pd.read_csv('/content/gdrive/My Drive/Assignment 3/ex3_data.csv')\r\n",
        "df"
      ],
      "execution_count": 7,
      "outputs": [
        {
          "output_type": "execute_result",
          "data": {
            "text/html": [
              "<div>\n",
              "<style scoped>\n",
              "    .dataframe tbody tr th:only-of-type {\n",
              "        vertical-align: middle;\n",
              "    }\n",
              "\n",
              "    .dataframe tbody tr th {\n",
              "        vertical-align: top;\n",
              "    }\n",
              "\n",
              "    .dataframe thead th {\n",
              "        text-align: right;\n",
              "    }\n",
              "</style>\n",
              "<table border=\"1\" class=\"dataframe\">\n",
              "  <thead>\n",
              "    <tr style=\"text-align: right;\">\n",
              "      <th></th>\n",
              "      <th>INTENSIVE</th>\n",
              "      <th>NEWSITEID</th>\n",
              "      <th>RISK10YRS</th>\n",
              "      <th>INCLUSIONFRS</th>\n",
              "      <th>SBP</th>\n",
              "      <th>DBP</th>\n",
              "      <th>N_AGENTS</th>\n",
              "      <th>NOAGENTS</th>\n",
              "      <th>SMOKE_3CAT</th>\n",
              "      <th>ASPIRIN</th>\n",
              "      <th>EGFR</th>\n",
              "      <th>SCREAT</th>\n",
              "      <th>SUB_CKD</th>\n",
              "      <th>RACE_BLACK</th>\n",
              "      <th>AGE</th>\n",
              "      <th>FEMALE</th>\n",
              "      <th>SUB_CVD</th>\n",
              "      <th>SUB_CLINICALCVD</th>\n",
              "      <th>SUB_SUBCLINICALCVD</th>\n",
              "      <th>SUB_SENIOR</th>\n",
              "      <th>RACE4</th>\n",
              "      <th>CHR</th>\n",
              "      <th>GLUR</th>\n",
              "      <th>HDL</th>\n",
              "      <th>TRR</th>\n",
              "      <th>UMALCR</th>\n",
              "      <th>BMI</th>\n",
              "      <th>STATIN</th>\n",
              "      <th>SBPTERTILE</th>\n",
              "      <th>EVENT_PRIMARY</th>\n",
              "    </tr>\n",
              "  </thead>\n",
              "  <tbody>\n",
              "    <tr>\n",
              "      <th>0</th>\n",
              "      <td>Regular</td>\n",
              "      <td>74.0</td>\n",
              "      <td>29.732061</td>\n",
              "      <td>True</td>\n",
              "      <td>145</td>\n",
              "      <td>80</td>\n",
              "      <td>2</td>\n",
              "      <td>False</td>\n",
              "      <td>3</td>\n",
              "      <td>True</td>\n",
              "      <td>67.69</td>\n",
              "      <td>1.11</td>\n",
              "      <td>False</td>\n",
              "      <td>False</td>\n",
              "      <td>60</td>\n",
              "      <td>False</td>\n",
              "      <td>True</td>\n",
              "      <td>True</td>\n",
              "      <td>False</td>\n",
              "      <td>False</td>\n",
              "      <td>WHITE</td>\n",
              "      <td>155</td>\n",
              "      <td>81</td>\n",
              "      <td>36</td>\n",
              "      <td>92</td>\n",
              "      <td>5.80</td>\n",
              "      <td>33.115201</td>\n",
              "      <td>True</td>\n",
              "      <td>3</td>\n",
              "      <td>False</td>\n",
              "    </tr>\n",
              "    <tr>\n",
              "      <th>1</th>\n",
              "      <td>Regular</td>\n",
              "      <td>8.0</td>\n",
              "      <td>29.677619</td>\n",
              "      <td>True</td>\n",
              "      <td>138</td>\n",
              "      <td>71</td>\n",
              "      <td>1</td>\n",
              "      <td>False</td>\n",
              "      <td>2</td>\n",
              "      <td>True</td>\n",
              "      <td>60.64</td>\n",
              "      <td>1.17</td>\n",
              "      <td>False</td>\n",
              "      <td>False</td>\n",
              "      <td>75</td>\n",
              "      <td>False</td>\n",
              "      <td>False</td>\n",
              "      <td>False</td>\n",
              "      <td>False</td>\n",
              "      <td>True</td>\n",
              "      <td>WHITE</td>\n",
              "      <td>243</td>\n",
              "      <td>107</td>\n",
              "      <td>61</td>\n",
              "      <td>188</td>\n",
              "      <td>5.45</td>\n",
              "      <td>28.842380</td>\n",
              "      <td>True</td>\n",
              "      <td>2</td>\n",
              "      <td>False</td>\n",
              "    </tr>\n",
              "    <tr>\n",
              "      <th>2</th>\n",
              "      <td>Intensive</td>\n",
              "      <td>25.0</td>\n",
              "      <td>17.443819</td>\n",
              "      <td>True</td>\n",
              "      <td>143</td>\n",
              "      <td>92</td>\n",
              "      <td>2</td>\n",
              "      <td>False</td>\n",
              "      <td>2</td>\n",
              "      <td>False</td>\n",
              "      <td>68.44</td>\n",
              "      <td>1.09</td>\n",
              "      <td>False</td>\n",
              "      <td>False</td>\n",
              "      <td>62</td>\n",
              "      <td>False</td>\n",
              "      <td>False</td>\n",
              "      <td>False</td>\n",
              "      <td>False</td>\n",
              "      <td>False</td>\n",
              "      <td>WHITE</td>\n",
              "      <td>180</td>\n",
              "      <td>116</td>\n",
              "      <td>47</td>\n",
              "      <td>125</td>\n",
              "      <td>13.33</td>\n",
              "      <td>33.643060</td>\n",
              "      <td>False</td>\n",
              "      <td>2</td>\n",
              "      <td>False</td>\n",
              "    </tr>\n",
              "    <tr>\n",
              "      <th>3</th>\n",
              "      <td>Regular</td>\n",
              "      <td>96.0</td>\n",
              "      <td>8.627849</td>\n",
              "      <td>False</td>\n",
              "      <td>123</td>\n",
              "      <td>68</td>\n",
              "      <td>2</td>\n",
              "      <td>False</td>\n",
              "      <td>1</td>\n",
              "      <td>False</td>\n",
              "      <td>71.94</td>\n",
              "      <td>0.78</td>\n",
              "      <td>False</td>\n",
              "      <td>False</td>\n",
              "      <td>75</td>\n",
              "      <td>True</td>\n",
              "      <td>False</td>\n",
              "      <td>False</td>\n",
              "      <td>False</td>\n",
              "      <td>True</td>\n",
              "      <td>WHITE</td>\n",
              "      <td>234</td>\n",
              "      <td>93</td>\n",
              "      <td>89</td>\n",
              "      <td>109</td>\n",
              "      <td>6.12</td>\n",
              "      <td>29.337871</td>\n",
              "      <td>False</td>\n",
              "      <td>1</td>\n",
              "      <td>False</td>\n",
              "    </tr>\n",
              "    <tr>\n",
              "      <th>4</th>\n",
              "      <td>Intensive</td>\n",
              "      <td>42.0</td>\n",
              "      <td>23.751437</td>\n",
              "      <td>True</td>\n",
              "      <td>126</td>\n",
              "      <td>51</td>\n",
              "      <td>2</td>\n",
              "      <td>False</td>\n",
              "      <td>2</td>\n",
              "      <td>False</td>\n",
              "      <td>50.19</td>\n",
              "      <td>1.36</td>\n",
              "      <td>True</td>\n",
              "      <td>False</td>\n",
              "      <td>81</td>\n",
              "      <td>False</td>\n",
              "      <td>False</td>\n",
              "      <td>False</td>\n",
              "      <td>False</td>\n",
              "      <td>True</td>\n",
              "      <td>WHITE</td>\n",
              "      <td>126</td>\n",
              "      <td>108</td>\n",
              "      <td>39</td>\n",
              "      <td>84</td>\n",
              "      <td>28.78</td>\n",
              "      <td>36.660286</td>\n",
              "      <td>False</td>\n",
              "      <td>1</td>\n",
              "      <td>False</td>\n",
              "    </tr>\n",
              "    <tr>\n",
              "      <th>...</th>\n",
              "      <td>...</td>\n",
              "      <td>...</td>\n",
              "      <td>...</td>\n",
              "      <td>...</td>\n",
              "      <td>...</td>\n",
              "      <td>...</td>\n",
              "      <td>...</td>\n",
              "      <td>...</td>\n",
              "      <td>...</td>\n",
              "      <td>...</td>\n",
              "      <td>...</td>\n",
              "      <td>...</td>\n",
              "      <td>...</td>\n",
              "      <td>...</td>\n",
              "      <td>...</td>\n",
              "      <td>...</td>\n",
              "      <td>...</td>\n",
              "      <td>...</td>\n",
              "      <td>...</td>\n",
              "      <td>...</td>\n",
              "      <td>...</td>\n",
              "      <td>...</td>\n",
              "      <td>...</td>\n",
              "      <td>...</td>\n",
              "      <td>...</td>\n",
              "      <td>...</td>\n",
              "      <td>...</td>\n",
              "      <td>...</td>\n",
              "      <td>...</td>\n",
              "      <td>...</td>\n",
              "    </tr>\n",
              "    <tr>\n",
              "      <th>8741</th>\n",
              "      <td>Regular</td>\n",
              "      <td>102.0</td>\n",
              "      <td>10.896486</td>\n",
              "      <td>False</td>\n",
              "      <td>138</td>\n",
              "      <td>59</td>\n",
              "      <td>2</td>\n",
              "      <td>False</td>\n",
              "      <td>2</td>\n",
              "      <td>True</td>\n",
              "      <td>79.57</td>\n",
              "      <td>0.71</td>\n",
              "      <td>False</td>\n",
              "      <td>False</td>\n",
              "      <td>78</td>\n",
              "      <td>True</td>\n",
              "      <td>False</td>\n",
              "      <td>False</td>\n",
              "      <td>False</td>\n",
              "      <td>True</td>\n",
              "      <td>WHITE</td>\n",
              "      <td>199</td>\n",
              "      <td>90</td>\n",
              "      <td>85</td>\n",
              "      <td>74</td>\n",
              "      <td>12.73</td>\n",
              "      <td>27.186534</td>\n",
              "      <td>True</td>\n",
              "      <td>2</td>\n",
              "      <td>False</td>\n",
              "    </tr>\n",
              "    <tr>\n",
              "      <th>8742</th>\n",
              "      <td>Regular</td>\n",
              "      <td>98.0</td>\n",
              "      <td>8.646088</td>\n",
              "      <td>False</td>\n",
              "      <td>119</td>\n",
              "      <td>73</td>\n",
              "      <td>3</td>\n",
              "      <td>False</td>\n",
              "      <td>2</td>\n",
              "      <td>False</td>\n",
              "      <td>22.60</td>\n",
              "      <td>2.08</td>\n",
              "      <td>True</td>\n",
              "      <td>False</td>\n",
              "      <td>85</td>\n",
              "      <td>True</td>\n",
              "      <td>False</td>\n",
              "      <td>False</td>\n",
              "      <td>False</td>\n",
              "      <td>True</td>\n",
              "      <td>WHITE</td>\n",
              "      <td>145</td>\n",
              "      <td>83</td>\n",
              "      <td>52</td>\n",
              "      <td>95</td>\n",
              "      <td>440.38</td>\n",
              "      <td>42.191997</td>\n",
              "      <td>True</td>\n",
              "      <td>1</td>\n",
              "      <td>False</td>\n",
              "    </tr>\n",
              "    <tr>\n",
              "      <th>8743</th>\n",
              "      <td>Regular</td>\n",
              "      <td>99.0</td>\n",
              "      <td>24.191491</td>\n",
              "      <td>True</td>\n",
              "      <td>137</td>\n",
              "      <td>75</td>\n",
              "      <td>0</td>\n",
              "      <td>True</td>\n",
              "      <td>2</td>\n",
              "      <td>False</td>\n",
              "      <td>74.74</td>\n",
              "      <td>1.00</td>\n",
              "      <td>False</td>\n",
              "      <td>False</td>\n",
              "      <td>66</td>\n",
              "      <td>False</td>\n",
              "      <td>True</td>\n",
              "      <td>True</td>\n",
              "      <td>False</td>\n",
              "      <td>False</td>\n",
              "      <td>WHITE</td>\n",
              "      <td>167</td>\n",
              "      <td>80</td>\n",
              "      <td>46</td>\n",
              "      <td>75</td>\n",
              "      <td>26.92</td>\n",
              "      <td>19.462021</td>\n",
              "      <td>True</td>\n",
              "      <td>2</td>\n",
              "      <td>False</td>\n",
              "    </tr>\n",
              "    <tr>\n",
              "      <th>8744</th>\n",
              "      <td>Intensive</td>\n",
              "      <td>15.0</td>\n",
              "      <td>20.354619</td>\n",
              "      <td>True</td>\n",
              "      <td>154</td>\n",
              "      <td>93</td>\n",
              "      <td>0</td>\n",
              "      <td>True</td>\n",
              "      <td>2</td>\n",
              "      <td>True</td>\n",
              "      <td>32.32</td>\n",
              "      <td>1.64</td>\n",
              "      <td>True</td>\n",
              "      <td>False</td>\n",
              "      <td>56</td>\n",
              "      <td>True</td>\n",
              "      <td>False</td>\n",
              "      <td>False</td>\n",
              "      <td>False</td>\n",
              "      <td>False</td>\n",
              "      <td>WHITE</td>\n",
              "      <td>245</td>\n",
              "      <td>103</td>\n",
              "      <td>37</td>\n",
              "      <td>369</td>\n",
              "      <td>3.20</td>\n",
              "      <td>35.579436</td>\n",
              "      <td>False</td>\n",
              "      <td>3</td>\n",
              "      <td>False</td>\n",
              "    </tr>\n",
              "    <tr>\n",
              "      <th>8745</th>\n",
              "      <td>Intensive</td>\n",
              "      <td>74.0</td>\n",
              "      <td>7.459888</td>\n",
              "      <td>False</td>\n",
              "      <td>146</td>\n",
              "      <td>81</td>\n",
              "      <td>1</td>\n",
              "      <td>False</td>\n",
              "      <td>1</td>\n",
              "      <td>True</td>\n",
              "      <td>92.08</td>\n",
              "      <td>0.64</td>\n",
              "      <td>False</td>\n",
              "      <td>False</td>\n",
              "      <td>68</td>\n",
              "      <td>True</td>\n",
              "      <td>False</td>\n",
              "      <td>False</td>\n",
              "      <td>False</td>\n",
              "      <td>False</td>\n",
              "      <td>WHITE</td>\n",
              "      <td>123</td>\n",
              "      <td>87</td>\n",
              "      <td>52</td>\n",
              "      <td>71</td>\n",
              "      <td>9.17</td>\n",
              "      <td>30.783013</td>\n",
              "      <td>True</td>\n",
              "      <td>3</td>\n",
              "      <td>False</td>\n",
              "    </tr>\n",
              "  </tbody>\n",
              "</table>\n",
              "<p>8746 rows × 30 columns</p>\n",
              "</div>"
            ],
            "text/plain": [
              "      INTENSIVE  NEWSITEID  RISK10YRS  ...  STATIN  SBPTERTILE  EVENT_PRIMARY\n",
              "0       Regular       74.0  29.732061  ...    True           3          False\n",
              "1       Regular        8.0  29.677619  ...    True           2          False\n",
              "2     Intensive       25.0  17.443819  ...   False           2          False\n",
              "3       Regular       96.0   8.627849  ...   False           1          False\n",
              "4     Intensive       42.0  23.751437  ...   False           1          False\n",
              "...         ...        ...        ...  ...     ...         ...            ...\n",
              "8741    Regular      102.0  10.896486  ...    True           2          False\n",
              "8742    Regular       98.0   8.646088  ...    True           1          False\n",
              "8743    Regular       99.0  24.191491  ...    True           2          False\n",
              "8744  Intensive       15.0  20.354619  ...   False           3          False\n",
              "8745  Intensive       74.0   7.459888  ...    True           3          False\n",
              "\n",
              "[8746 rows x 30 columns]"
            ]
          },
          "metadata": {
            "tags": []
          },
          "execution_count": 7
        }
      ]
    },
    {
      "cell_type": "markdown",
      "metadata": {
        "id": "h6YV4rvW3DRk"
      },
      "source": [
        "# Split to Train and Test"
      ]
    },
    {
      "cell_type": "code",
      "metadata": {
        "id": "RelRYWGX3IOC"
      },
      "source": [
        "# splitting the data into 70% train set and 30% test set.\r\n",
        "X_train, X_test, y_train, y_test = train_test_split(df.drop(\"EVENT_PRIMARY\", axis=1), df.EVENT_PRIMARY, test_size = 0.3, random_state=0)"
      ],
      "execution_count": 8,
      "outputs": []
    },
    {
      "cell_type": "markdown",
      "metadata": {
        "id": "FmCZc1SV5KUa"
      },
      "source": [
        "# Exploring Dataset"
      ]
    },
    {
      "cell_type": "code",
      "metadata": {
        "colab": {
          "base_uri": "https://localhost:8080/",
          "height": 638
        },
        "id": "0KR9GShHuoc6",
        "outputId": "0a87c4d6-0178-4e41-fd49-b78beb16789a"
      },
      "source": [
        "# get info about the columns type\r\n",
        "display(X_train.info())"
      ],
      "execution_count": 9,
      "outputs": [
        {
          "output_type": "stream",
          "text": [
            "<class 'pandas.core.frame.DataFrame'>\n",
            "Int64Index: 6122 entries, 6138 to 2732\n",
            "Data columns (total 29 columns):\n",
            " #   Column              Non-Null Count  Dtype  \n",
            "---  ------              --------------  -----  \n",
            " 0   INTENSIVE           6122 non-null   object \n",
            " 1   NEWSITEID           5796 non-null   float64\n",
            " 2   RISK10YRS           6122 non-null   float64\n",
            " 3   INCLUSIONFRS        6122 non-null   bool   \n",
            " 4   SBP                 6122 non-null   int64  \n",
            " 5   DBP                 6122 non-null   int64  \n",
            " 6   N_AGENTS            6122 non-null   int64  \n",
            " 7   NOAGENTS            6122 non-null   bool   \n",
            " 8   SMOKE_3CAT          6122 non-null   int64  \n",
            " 9   ASPIRIN             6122 non-null   bool   \n",
            " 10  EGFR                6122 non-null   float64\n",
            " 11  SCREAT              6122 non-null   float64\n",
            " 12  SUB_CKD             6122 non-null   bool   \n",
            " 13  RACE_BLACK          6122 non-null   bool   \n",
            " 14  AGE                 6122 non-null   int64  \n",
            " 15  FEMALE              6122 non-null   bool   \n",
            " 16  SUB_CVD             6122 non-null   bool   \n",
            " 17  SUB_CLINICALCVD     6122 non-null   bool   \n",
            " 18  SUB_SUBCLINICALCVD  6122 non-null   bool   \n",
            " 19  SUB_SENIOR          6122 non-null   bool   \n",
            " 20  RACE4               6122 non-null   object \n",
            " 21  CHR                 6122 non-null   int64  \n",
            " 22  GLUR                6122 non-null   int64  \n",
            " 23  HDL                 6122 non-null   int64  \n",
            " 24  TRR                 6122 non-null   int64  \n",
            " 25  UMALCR              6122 non-null   float64\n",
            " 26  BMI                 6122 non-null   float64\n",
            " 27  STATIN              6122 non-null   bool   \n",
            " 28  SBPTERTILE          6122 non-null   int64  \n",
            "dtypes: bool(11), float64(6), int64(10), object(2)\n",
            "memory usage: 974.5+ KB\n"
          ],
          "name": "stdout"
        },
        {
          "output_type": "display_data",
          "data": {
            "text/plain": [
              "None"
            ]
          },
          "metadata": {
            "tags": []
          }
        }
      ]
    },
    {
      "cell_type": "code",
      "metadata": {
        "id": "HLeaUuWD5Mx5",
        "colab": {
          "base_uri": "https://localhost:8080/",
          "height": 304
        },
        "outputId": "2853d02b-4488-4ab7-d484-268b9f4d3cad"
      },
      "source": [
        "# get info about mean, std, min, max, values\r\n",
        "display(X_train.describe())"
      ],
      "execution_count": 10,
      "outputs": [
        {
          "output_type": "display_data",
          "data": {
            "text/html": [
              "<div>\n",
              "<style scoped>\n",
              "    .dataframe tbody tr th:only-of-type {\n",
              "        vertical-align: middle;\n",
              "    }\n",
              "\n",
              "    .dataframe tbody tr th {\n",
              "        vertical-align: top;\n",
              "    }\n",
              "\n",
              "    .dataframe thead th {\n",
              "        text-align: right;\n",
              "    }\n",
              "</style>\n",
              "<table border=\"1\" class=\"dataframe\">\n",
              "  <thead>\n",
              "    <tr style=\"text-align: right;\">\n",
              "      <th></th>\n",
              "      <th>NEWSITEID</th>\n",
              "      <th>RISK10YRS</th>\n",
              "      <th>SBP</th>\n",
              "      <th>DBP</th>\n",
              "      <th>N_AGENTS</th>\n",
              "      <th>SMOKE_3CAT</th>\n",
              "      <th>EGFR</th>\n",
              "      <th>SCREAT</th>\n",
              "      <th>AGE</th>\n",
              "      <th>CHR</th>\n",
              "      <th>GLUR</th>\n",
              "      <th>HDL</th>\n",
              "      <th>TRR</th>\n",
              "      <th>UMALCR</th>\n",
              "      <th>BMI</th>\n",
              "      <th>SBPTERTILE</th>\n",
              "    </tr>\n",
              "  </thead>\n",
              "  <tbody>\n",
              "    <tr>\n",
              "      <th>count</th>\n",
              "      <td>5796.000000</td>\n",
              "      <td>6122.000000</td>\n",
              "      <td>6122.000000</td>\n",
              "      <td>6122.000000</td>\n",
              "      <td>6122.000000</td>\n",
              "      <td>6122.000000</td>\n",
              "      <td>6122.000000</td>\n",
              "      <td>6122.000000</td>\n",
              "      <td>6122.000000</td>\n",
              "      <td>6122.000000</td>\n",
              "      <td>6122.000000</td>\n",
              "      <td>6122.000000</td>\n",
              "      <td>6122.000000</td>\n",
              "      <td>6122.000000</td>\n",
              "      <td>6122.000000</td>\n",
              "      <td>6122.000000</td>\n",
              "    </tr>\n",
              "    <tr>\n",
              "      <th>mean</th>\n",
              "      <td>55.891649</td>\n",
              "      <td>20.263013</td>\n",
              "      <td>139.741261</td>\n",
              "      <td>78.133616</td>\n",
              "      <td>1.824567</td>\n",
              "      <td>1.694218</td>\n",
              "      <td>71.576599</td>\n",
              "      <td>1.078386</td>\n",
              "      <td>68.038876</td>\n",
              "      <td>189.800229</td>\n",
              "      <td>98.936785</td>\n",
              "      <td>52.745018</td>\n",
              "      <td>125.324894</td>\n",
              "      <td>42.124802</td>\n",
              "      <td>29.851622</td>\n",
              "      <td>2.010291</td>\n",
              "    </tr>\n",
              "    <tr>\n",
              "      <th>std</th>\n",
              "      <td>29.803121</td>\n",
              "      <td>10.896961</td>\n",
              "      <td>15.649653</td>\n",
              "      <td>12.012795</td>\n",
              "      <td>1.034417</td>\n",
              "      <td>0.693232</td>\n",
              "      <td>20.605170</td>\n",
              "      <td>0.341920</td>\n",
              "      <td>9.431987</td>\n",
              "      <td>40.905354</td>\n",
              "      <td>13.419479</td>\n",
              "      <td>14.436544</td>\n",
              "      <td>80.482783</td>\n",
              "      <td>165.513993</td>\n",
              "      <td>5.785701</td>\n",
              "      <td>0.820855</td>\n",
              "    </tr>\n",
              "    <tr>\n",
              "      <th>min</th>\n",
              "      <td>1.000000</td>\n",
              "      <td>1.863811</td>\n",
              "      <td>72.000000</td>\n",
              "      <td>40.000000</td>\n",
              "      <td>0.000000</td>\n",
              "      <td>1.000000</td>\n",
              "      <td>14.660000</td>\n",
              "      <td>0.420000</td>\n",
              "      <td>50.000000</td>\n",
              "      <td>80.000000</td>\n",
              "      <td>44.000000</td>\n",
              "      <td>17.000000</td>\n",
              "      <td>23.000000</td>\n",
              "      <td>1.650000</td>\n",
              "      <td>13.734281</td>\n",
              "      <td>1.000000</td>\n",
              "    </tr>\n",
              "    <tr>\n",
              "      <th>25%</th>\n",
              "      <td>32.000000</td>\n",
              "      <td>12.097237</td>\n",
              "      <td>130.000000</td>\n",
              "      <td>70.000000</td>\n",
              "      <td>1.000000</td>\n",
              "      <td>1.000000</td>\n",
              "      <td>57.822500</td>\n",
              "      <td>0.860000</td>\n",
              "      <td>61.000000</td>\n",
              "      <td>161.000000</td>\n",
              "      <td>91.000000</td>\n",
              "      <td>43.000000</td>\n",
              "      <td>78.000000</td>\n",
              "      <td>5.610000</td>\n",
              "      <td>25.883594</td>\n",
              "      <td>1.000000</td>\n",
              "    </tr>\n",
              "    <tr>\n",
              "      <th>50%</th>\n",
              "      <td>57.000000</td>\n",
              "      <td>17.985340</td>\n",
              "      <td>138.500000</td>\n",
              "      <td>78.000000</td>\n",
              "      <td>2.000000</td>\n",
              "      <td>2.000000</td>\n",
              "      <td>71.115000</td>\n",
              "      <td>1.010000</td>\n",
              "      <td>67.000000</td>\n",
              "      <td>186.000000</td>\n",
              "      <td>97.000000</td>\n",
              "      <td>50.000000</td>\n",
              "      <td>106.500000</td>\n",
              "      <td>9.515000</td>\n",
              "      <td>29.052644</td>\n",
              "      <td>2.000000</td>\n",
              "    </tr>\n",
              "    <tr>\n",
              "      <th>75%</th>\n",
              "      <td>81.000000</td>\n",
              "      <td>25.768375</td>\n",
              "      <td>149.000000</td>\n",
              "      <td>86.000000</td>\n",
              "      <td>3.000000</td>\n",
              "      <td>2.000000</td>\n",
              "      <td>84.470000</td>\n",
              "      <td>1.220000</td>\n",
              "      <td>76.000000</td>\n",
              "      <td>214.000000</td>\n",
              "      <td>105.000000</td>\n",
              "      <td>60.000000</td>\n",
              "      <td>149.000000</td>\n",
              "      <td>21.740000</td>\n",
              "      <td>32.956593</td>\n",
              "      <td>3.000000</td>\n",
              "    </tr>\n",
              "    <tr>\n",
              "      <th>max</th>\n",
              "      <td>102.000000</td>\n",
              "      <td>81.187680</td>\n",
              "      <td>231.000000</td>\n",
              "      <td>126.000000</td>\n",
              "      <td>6.000000</td>\n",
              "      <td>3.000000</td>\n",
              "      <td>186.190000</td>\n",
              "      <td>4.040000</td>\n",
              "      <td>90.000000</td>\n",
              "      <td>437.000000</td>\n",
              "      <td>286.000000</td>\n",
              "      <td>161.000000</td>\n",
              "      <td>1701.000000</td>\n",
              "      <td>4125.000000</td>\n",
              "      <td>63.932902</td>\n",
              "      <td>3.000000</td>\n",
              "    </tr>\n",
              "  </tbody>\n",
              "</table>\n",
              "</div>"
            ],
            "text/plain": [
              "         NEWSITEID    RISK10YRS  ...          BMI   SBPTERTILE\n",
              "count  5796.000000  6122.000000  ...  6122.000000  6122.000000\n",
              "mean     55.891649    20.263013  ...    29.851622     2.010291\n",
              "std      29.803121    10.896961  ...     5.785701     0.820855\n",
              "min       1.000000     1.863811  ...    13.734281     1.000000\n",
              "25%      32.000000    12.097237  ...    25.883594     1.000000\n",
              "50%      57.000000    17.985340  ...    29.052644     2.000000\n",
              "75%      81.000000    25.768375  ...    32.956593     3.000000\n",
              "max     102.000000    81.187680  ...    63.932902     3.000000\n",
              "\n",
              "[8 rows x 16 columns]"
            ]
          },
          "metadata": {
            "tags": []
          }
        }
      ]
    },
    {
      "cell_type": "code",
      "metadata": {
        "id": "wuI6bkg86vHu",
        "colab": {
          "base_uri": "https://localhost:8080/"
        },
        "outputId": "18115f85-492c-43c1-acdd-d4a35cf01527"
      },
      "source": [
        "# show number of missing values\r\n",
        "num_missing = X_train.isnull().sum()\r\n",
        "num_missing"
      ],
      "execution_count": 11,
      "outputs": [
        {
          "output_type": "execute_result",
          "data": {
            "text/plain": [
              "INTENSIVE               0\n",
              "NEWSITEID             326\n",
              "RISK10YRS               0\n",
              "INCLUSIONFRS            0\n",
              "SBP                     0\n",
              "DBP                     0\n",
              "N_AGENTS                0\n",
              "NOAGENTS                0\n",
              "SMOKE_3CAT              0\n",
              "ASPIRIN                 0\n",
              "EGFR                    0\n",
              "SCREAT                  0\n",
              "SUB_CKD                 0\n",
              "RACE_BLACK              0\n",
              "AGE                     0\n",
              "FEMALE                  0\n",
              "SUB_CVD                 0\n",
              "SUB_CLINICALCVD         0\n",
              "SUB_SUBCLINICALCVD      0\n",
              "SUB_SENIOR              0\n",
              "RACE4                   0\n",
              "CHR                     0\n",
              "GLUR                    0\n",
              "HDL                     0\n",
              "TRR                     0\n",
              "UMALCR                  0\n",
              "BMI                     0\n",
              "STATIN                  0\n",
              "SBPTERTILE              0\n",
              "dtype: int64"
            ]
          },
          "metadata": {
            "tags": []
          },
          "execution_count": 11
        }
      ]
    },
    {
      "cell_type": "code",
      "metadata": {
        "id": "4Y7CpdrrQeSY",
        "colab": {
          "base_uri": "https://localhost:8080/"
        },
        "outputId": "a2aecbc8-a629-49cd-8981-2c4e3eaaa639"
      },
      "source": [
        "# Checking Imbalance classes\r\n",
        "true_cases = [x for x in df.EVENT_PRIMARY if x == True]\r\n",
        "print(true_cases[0] == 1)\r\n",
        "false_cases = [x for x in df.EVENT_PRIMARY if x == False]\r\n",
        "print(f\"Number of True cases: {len(true_cases)}\")\r\n",
        "print(f\"Number of False cases: {len(false_cases)}\")"
      ],
      "execution_count": 12,
      "outputs": [
        {
          "output_type": "stream",
          "text": [
            "True\n",
            "Number of True cases: 539\n",
            "Number of False cases: 8207\n"
          ],
          "name": "stdout"
        }
      ]
    },
    {
      "cell_type": "markdown",
      "metadata": {
        "id": "yXNxbcvhEVr_"
      },
      "source": [
        "# Pre-processing"
      ]
    },
    {
      "cell_type": "markdown",
      "metadata": {
        "id": "ru3FmRMQGG6A"
      },
      "source": [
        "### Cleaning"
      ]
    },
    {
      "cell_type": "code",
      "metadata": {
        "id": "IMIX3xOsUpbf"
      },
      "source": [
        "# Fill missing values\r\n",
        "X_train = X_train.fillna(value = 0)\r\n",
        "X_test = X_test.fillna(value=0)"
      ],
      "execution_count": 13,
      "outputs": []
    },
    {
      "cell_type": "markdown",
      "metadata": {
        "id": "1ImjUK3Q-yLb"
      },
      "source": [
        "### Encoding"
      ]
    },
    {
      "cell_type": "code",
      "metadata": {
        "id": "oH4TwsIDGI6O"
      },
      "source": [
        "# encodes intensive to 1 and 0\r\n",
        "def intensive_encode(value):\r\n",
        "  if value == \"Regular\":\r\n",
        "    return 0\r\n",
        "  return 1\r\n",
        "\r\n",
        "X_train[\"INTENSIVE\"] = X_train[\"INTENSIVE\"].apply(intensive_encode)\r\n",
        "X_test[\"INTENSIVE\"] = X_test[\"INTENSIVE\"].apply(intensive_encode)"
      ],
      "execution_count": 14,
      "outputs": []
    },
    {
      "cell_type": "code",
      "metadata": {
        "id": "Vynn3QOgrxEx"
      },
      "source": [
        "# encode boolean to integers\r\n",
        "encode = OrdinalEncoder()\r\n",
        "columns = X_train.select_dtypes(\"boolean\").columns\r\n",
        "\r\n",
        "X_train[columns] = encode.fit_transform(X_train[columns])\r\n",
        "X_test[columns] = encode.transform(X_test[columns])"
      ],
      "execution_count": 15,
      "outputs": []
    },
    {
      "cell_type": "code",
      "metadata": {
        "colab": {
          "base_uri": "https://localhost:8080/"
        },
        "id": "lxzdi3TZEDZL",
        "outputId": "1fb6a7ff-6fa3-4859-c78e-4e6b31eb9892"
      },
      "source": [
        "# binary encoding\r\n",
        "def binary_enc(column):\r\n",
        "  encoder = ce.BinaryEncoder(cols=[column])\r\n",
        "  train = encoder.fit_transform(X_train)\r\n",
        "  test = encoder.transform(X_test)\r\n",
        "  return train, test\r\n",
        "  \r\n",
        "for column in [\"NEWSITEID\", \"RACE4\"]:\r\n",
        "  X_train, X_test = binary_enc(column)"
      ],
      "execution_count": 16,
      "outputs": [
        {
          "output_type": "stream",
          "text": [
            "/usr/local/lib/python3.6/dist-packages/category_encoders/utils.py:21: FutureWarning: is_categorical is deprecated and will be removed in a future version.  Use is_categorical_dtype instead\n",
            "  elif pd.api.types.is_categorical(cols):\n",
            "/usr/local/lib/python3.6/dist-packages/category_encoders/utils.py:21: FutureWarning: is_categorical is deprecated and will be removed in a future version.  Use is_categorical_dtype instead\n",
            "  elif pd.api.types.is_categorical(cols):\n"
          ],
          "name": "stderr"
        }
      ]
    },
    {
      "cell_type": "markdown",
      "metadata": {
        "id": "A0v5AGeZ2Duz"
      },
      "source": [
        "### Scaling"
      ]
    },
    {
      "cell_type": "code",
      "metadata": {
        "id": "vU-CEhsh2Fdu",
        "colab": {
          "base_uri": "https://localhost:8080/",
          "height": 86
        },
        "outputId": "72fea34e-094d-423c-f2b8-0f1b3fd6f647"
      },
      "source": [
        "# Scaling by removing the mean and scaling to unit variance \r\n",
        "\"\"\"\r\n",
        "#scaler = MinMaxScaler()\r\n",
        "scaler = StandardScaler()\r\n",
        "\r\n",
        "def scaling(train, test, scaler):\r\n",
        "  train_new = scaler.fit_transform(train)\r\n",
        "  test_new = scaler.transform(test)\r\n",
        "  return train_new, test_new\r\n",
        "\r\n",
        "\r\n",
        "columns = [\"RISK10YRS\",\t\"SBP\",\t\"DBP\", \"EGFR\",\t\"SCREAT\", \"CHR\",\t\"GLUR\"\t,\"HDL\",\t\"TRR\",\t\"UMALCR\",\t\"BMI\", \"AGE\"]\r\n",
        "for column in columns:\r\n",
        "  X_train[column], X_test[column] = scaling(X_train[[column]], X_test[[column]], scaler)\r\n",
        "\"\"\""
      ],
      "execution_count": 17,
      "outputs": [
        {
          "output_type": "execute_result",
          "data": {
            "application/vnd.google.colaboratory.intrinsic+json": {
              "type": "string"
            },
            "text/plain": [
              "'\\n#scaler = MinMaxScaler()\\nscaler = StandardScaler()\\n\\ndef scaling(train, test, scaler):\\n  train_new = scaler.fit_transform(train)\\n  test_new = scaler.transform(test)\\n  return train_new, test_new\\n\\n\\ncolumns = [\"RISK10YRS\",\\t\"SBP\",\\t\"DBP\", \"EGFR\",\\t\"SCREAT\", \"CHR\",\\t\"GLUR\"\\t,\"HDL\",\\t\"TRR\",\\t\"UMALCR\",\\t\"BMI\", \"AGE\"]\\nfor column in columns:\\n  X_train[column], X_test[column] = scaling(X_train[[column]], X_test[[column]], scaler)\\n'"
            ]
          },
          "metadata": {
            "tags": []
          },
          "execution_count": 17
        }
      ]
    },
    {
      "cell_type": "markdown",
      "metadata": {
        "id": "mucufaTRKOiI"
      },
      "source": [
        "### Explore data after transformation"
      ]
    },
    {
      "cell_type": "code",
      "metadata": {
        "colab": {
          "base_uri": "https://localhost:8080/",
          "height": 422
        },
        "id": "ibLHAA0B4wl7",
        "outputId": "7e8e17f4-72c5-47d6-ecd2-20604e4b6ca3"
      },
      "source": [
        "# show X_train after pre processing\r\n",
        "display(X_train)"
      ],
      "execution_count": 18,
      "outputs": [
        {
          "output_type": "display_data",
          "data": {
            "text/html": [
              "<div>\n",
              "<style scoped>\n",
              "    .dataframe tbody tr th:only-of-type {\n",
              "        vertical-align: middle;\n",
              "    }\n",
              "\n",
              "    .dataframe tbody tr th {\n",
              "        vertical-align: top;\n",
              "    }\n",
              "\n",
              "    .dataframe thead th {\n",
              "        text-align: right;\n",
              "    }\n",
              "</style>\n",
              "<table border=\"1\" class=\"dataframe\">\n",
              "  <thead>\n",
              "    <tr style=\"text-align: right;\">\n",
              "      <th></th>\n",
              "      <th>INTENSIVE</th>\n",
              "      <th>NEWSITEID_0</th>\n",
              "      <th>NEWSITEID_1</th>\n",
              "      <th>NEWSITEID_2</th>\n",
              "      <th>NEWSITEID_3</th>\n",
              "      <th>NEWSITEID_4</th>\n",
              "      <th>NEWSITEID_5</th>\n",
              "      <th>NEWSITEID_6</th>\n",
              "      <th>NEWSITEID_7</th>\n",
              "      <th>RISK10YRS</th>\n",
              "      <th>INCLUSIONFRS</th>\n",
              "      <th>SBP</th>\n",
              "      <th>DBP</th>\n",
              "      <th>N_AGENTS</th>\n",
              "      <th>NOAGENTS</th>\n",
              "      <th>SMOKE_3CAT</th>\n",
              "      <th>ASPIRIN</th>\n",
              "      <th>EGFR</th>\n",
              "      <th>SCREAT</th>\n",
              "      <th>SUB_CKD</th>\n",
              "      <th>RACE_BLACK</th>\n",
              "      <th>AGE</th>\n",
              "      <th>FEMALE</th>\n",
              "      <th>SUB_CVD</th>\n",
              "      <th>SUB_CLINICALCVD</th>\n",
              "      <th>SUB_SUBCLINICALCVD</th>\n",
              "      <th>SUB_SENIOR</th>\n",
              "      <th>RACE4_0</th>\n",
              "      <th>RACE4_1</th>\n",
              "      <th>RACE4_2</th>\n",
              "      <th>CHR</th>\n",
              "      <th>GLUR</th>\n",
              "      <th>HDL</th>\n",
              "      <th>TRR</th>\n",
              "      <th>UMALCR</th>\n",
              "      <th>BMI</th>\n",
              "      <th>STATIN</th>\n",
              "      <th>SBPTERTILE</th>\n",
              "    </tr>\n",
              "  </thead>\n",
              "  <tbody>\n",
              "    <tr>\n",
              "      <th>6138</th>\n",
              "      <td>1</td>\n",
              "      <td>0</td>\n",
              "      <td>0</td>\n",
              "      <td>0</td>\n",
              "      <td>0</td>\n",
              "      <td>0</td>\n",
              "      <td>0</td>\n",
              "      <td>0</td>\n",
              "      <td>1</td>\n",
              "      <td>28.319732</td>\n",
              "      <td>1.0</td>\n",
              "      <td>117</td>\n",
              "      <td>67</td>\n",
              "      <td>1</td>\n",
              "      <td>0.0</td>\n",
              "      <td>1</td>\n",
              "      <td>0.0</td>\n",
              "      <td>89.63</td>\n",
              "      <td>0.97</td>\n",
              "      <td>0.0</td>\n",
              "      <td>1.0</td>\n",
              "      <td>82</td>\n",
              "      <td>0.0</td>\n",
              "      <td>0.0</td>\n",
              "      <td>0.0</td>\n",
              "      <td>0.0</td>\n",
              "      <td>1.0</td>\n",
              "      <td>0</td>\n",
              "      <td>0</td>\n",
              "      <td>1</td>\n",
              "      <td>194</td>\n",
              "      <td>92</td>\n",
              "      <td>47</td>\n",
              "      <td>77</td>\n",
              "      <td>4.83</td>\n",
              "      <td>27.580476</td>\n",
              "      <td>0.0</td>\n",
              "      <td>1</td>\n",
              "    </tr>\n",
              "    <tr>\n",
              "      <th>3447</th>\n",
              "      <td>0</td>\n",
              "      <td>0</td>\n",
              "      <td>0</td>\n",
              "      <td>0</td>\n",
              "      <td>0</td>\n",
              "      <td>0</td>\n",
              "      <td>0</td>\n",
              "      <td>1</td>\n",
              "      <td>0</td>\n",
              "      <td>11.690513</td>\n",
              "      <td>0.0</td>\n",
              "      <td>118</td>\n",
              "      <td>57</td>\n",
              "      <td>2</td>\n",
              "      <td>0.0</td>\n",
              "      <td>2</td>\n",
              "      <td>1.0</td>\n",
              "      <td>62.59</td>\n",
              "      <td>1.15</td>\n",
              "      <td>0.0</td>\n",
              "      <td>0.0</td>\n",
              "      <td>71</td>\n",
              "      <td>0.0</td>\n",
              "      <td>0.0</td>\n",
              "      <td>0.0</td>\n",
              "      <td>0.0</td>\n",
              "      <td>0.0</td>\n",
              "      <td>0</td>\n",
              "      <td>1</td>\n",
              "      <td>0</td>\n",
              "      <td>124</td>\n",
              "      <td>90</td>\n",
              "      <td>50</td>\n",
              "      <td>74</td>\n",
              "      <td>13.01</td>\n",
              "      <td>25.696259</td>\n",
              "      <td>1.0</td>\n",
              "      <td>1</td>\n",
              "    </tr>\n",
              "    <tr>\n",
              "      <th>6459</th>\n",
              "      <td>0</td>\n",
              "      <td>0</td>\n",
              "      <td>0</td>\n",
              "      <td>0</td>\n",
              "      <td>0</td>\n",
              "      <td>0</td>\n",
              "      <td>0</td>\n",
              "      <td>1</td>\n",
              "      <td>1</td>\n",
              "      <td>43.604612</td>\n",
              "      <td>1.0</td>\n",
              "      <td>158</td>\n",
              "      <td>66</td>\n",
              "      <td>3</td>\n",
              "      <td>0.0</td>\n",
              "      <td>1</td>\n",
              "      <td>1.0</td>\n",
              "      <td>39.21</td>\n",
              "      <td>1.67</td>\n",
              "      <td>1.0</td>\n",
              "      <td>0.0</td>\n",
              "      <td>85</td>\n",
              "      <td>0.0</td>\n",
              "      <td>0.0</td>\n",
              "      <td>0.0</td>\n",
              "      <td>0.0</td>\n",
              "      <td>1.0</td>\n",
              "      <td>0</td>\n",
              "      <td>1</td>\n",
              "      <td>0</td>\n",
              "      <td>164</td>\n",
              "      <td>103</td>\n",
              "      <td>45</td>\n",
              "      <td>87</td>\n",
              "      <td>356.94</td>\n",
              "      <td>38.843269</td>\n",
              "      <td>0.0</td>\n",
              "      <td>3</td>\n",
              "    </tr>\n",
              "    <tr>\n",
              "      <th>4798</th>\n",
              "      <td>0</td>\n",
              "      <td>0</td>\n",
              "      <td>0</td>\n",
              "      <td>0</td>\n",
              "      <td>0</td>\n",
              "      <td>0</td>\n",
              "      <td>1</td>\n",
              "      <td>0</td>\n",
              "      <td>0</td>\n",
              "      <td>22.657058</td>\n",
              "      <td>1.0</td>\n",
              "      <td>136</td>\n",
              "      <td>79</td>\n",
              "      <td>0</td>\n",
              "      <td>1.0</td>\n",
              "      <td>1</td>\n",
              "      <td>0.0</td>\n",
              "      <td>67.56</td>\n",
              "      <td>1.11</td>\n",
              "      <td>0.0</td>\n",
              "      <td>0.0</td>\n",
              "      <td>60</td>\n",
              "      <td>0.0</td>\n",
              "      <td>0.0</td>\n",
              "      <td>0.0</td>\n",
              "      <td>0.0</td>\n",
              "      <td>0.0</td>\n",
              "      <td>0</td>\n",
              "      <td>1</td>\n",
              "      <td>0</td>\n",
              "      <td>194</td>\n",
              "      <td>102</td>\n",
              "      <td>43</td>\n",
              "      <td>128</td>\n",
              "      <td>3.01</td>\n",
              "      <td>26.572146</td>\n",
              "      <td>0.0</td>\n",
              "      <td>2</td>\n",
              "    </tr>\n",
              "    <tr>\n",
              "      <th>5328</th>\n",
              "      <td>1</td>\n",
              "      <td>0</td>\n",
              "      <td>0</td>\n",
              "      <td>0</td>\n",
              "      <td>0</td>\n",
              "      <td>0</td>\n",
              "      <td>1</td>\n",
              "      <td>0</td>\n",
              "      <td>1</td>\n",
              "      <td>17.742077</td>\n",
              "      <td>1.0</td>\n",
              "      <td>140</td>\n",
              "      <td>88</td>\n",
              "      <td>1</td>\n",
              "      <td>0.0</td>\n",
              "      <td>2</td>\n",
              "      <td>1.0</td>\n",
              "      <td>94.35</td>\n",
              "      <td>0.81</td>\n",
              "      <td>0.0</td>\n",
              "      <td>0.0</td>\n",
              "      <td>69</td>\n",
              "      <td>0.0</td>\n",
              "      <td>0.0</td>\n",
              "      <td>0.0</td>\n",
              "      <td>0.0</td>\n",
              "      <td>0.0</td>\n",
              "      <td>0</td>\n",
              "      <td>1</td>\n",
              "      <td>0</td>\n",
              "      <td>188</td>\n",
              "      <td>93</td>\n",
              "      <td>66</td>\n",
              "      <td>74</td>\n",
              "      <td>8.33</td>\n",
              "      <td>27.396015</td>\n",
              "      <td>1.0</td>\n",
              "      <td>2</td>\n",
              "    </tr>\n",
              "    <tr>\n",
              "      <th>...</th>\n",
              "      <td>...</td>\n",
              "      <td>...</td>\n",
              "      <td>...</td>\n",
              "      <td>...</td>\n",
              "      <td>...</td>\n",
              "      <td>...</td>\n",
              "      <td>...</td>\n",
              "      <td>...</td>\n",
              "      <td>...</td>\n",
              "      <td>...</td>\n",
              "      <td>...</td>\n",
              "      <td>...</td>\n",
              "      <td>...</td>\n",
              "      <td>...</td>\n",
              "      <td>...</td>\n",
              "      <td>...</td>\n",
              "      <td>...</td>\n",
              "      <td>...</td>\n",
              "      <td>...</td>\n",
              "      <td>...</td>\n",
              "      <td>...</td>\n",
              "      <td>...</td>\n",
              "      <td>...</td>\n",
              "      <td>...</td>\n",
              "      <td>...</td>\n",
              "      <td>...</td>\n",
              "      <td>...</td>\n",
              "      <td>...</td>\n",
              "      <td>...</td>\n",
              "      <td>...</td>\n",
              "      <td>...</td>\n",
              "      <td>...</td>\n",
              "      <td>...</td>\n",
              "      <td>...</td>\n",
              "      <td>...</td>\n",
              "      <td>...</td>\n",
              "      <td>...</td>\n",
              "      <td>...</td>\n",
              "    </tr>\n",
              "    <tr>\n",
              "      <th>4373</th>\n",
              "      <td>1</td>\n",
              "      <td>0</td>\n",
              "      <td>1</td>\n",
              "      <td>0</td>\n",
              "      <td>0</td>\n",
              "      <td>0</td>\n",
              "      <td>1</td>\n",
              "      <td>1</td>\n",
              "      <td>0</td>\n",
              "      <td>15.087441</td>\n",
              "      <td>1.0</td>\n",
              "      <td>143</td>\n",
              "      <td>71</td>\n",
              "      <td>2</td>\n",
              "      <td>0.0</td>\n",
              "      <td>2</td>\n",
              "      <td>1.0</td>\n",
              "      <td>60.78</td>\n",
              "      <td>0.92</td>\n",
              "      <td>0.0</td>\n",
              "      <td>0.0</td>\n",
              "      <td>67</td>\n",
              "      <td>1.0</td>\n",
              "      <td>1.0</td>\n",
              "      <td>0.0</td>\n",
              "      <td>1.0</td>\n",
              "      <td>0.0</td>\n",
              "      <td>0</td>\n",
              "      <td>0</td>\n",
              "      <td>1</td>\n",
              "      <td>229</td>\n",
              "      <td>108</td>\n",
              "      <td>46</td>\n",
              "      <td>206</td>\n",
              "      <td>14.02</td>\n",
              "      <td>29.264266</td>\n",
              "      <td>0.0</td>\n",
              "      <td>2</td>\n",
              "    </tr>\n",
              "    <tr>\n",
              "      <th>7891</th>\n",
              "      <td>0</td>\n",
              "      <td>0</td>\n",
              "      <td>0</td>\n",
              "      <td>0</td>\n",
              "      <td>1</td>\n",
              "      <td>0</td>\n",
              "      <td>0</td>\n",
              "      <td>0</td>\n",
              "      <td>0</td>\n",
              "      <td>19.103985</td>\n",
              "      <td>1.0</td>\n",
              "      <td>128</td>\n",
              "      <td>64</td>\n",
              "      <td>1</td>\n",
              "      <td>0.0</td>\n",
              "      <td>1</td>\n",
              "      <td>1.0</td>\n",
              "      <td>76.22</td>\n",
              "      <td>0.96</td>\n",
              "      <td>0.0</td>\n",
              "      <td>0.0</td>\n",
              "      <td>78</td>\n",
              "      <td>0.0</td>\n",
              "      <td>1.0</td>\n",
              "      <td>1.0</td>\n",
              "      <td>0.0</td>\n",
              "      <td>1.0</td>\n",
              "      <td>0</td>\n",
              "      <td>1</td>\n",
              "      <td>0</td>\n",
              "      <td>188</td>\n",
              "      <td>95</td>\n",
              "      <td>66</td>\n",
              "      <td>52</td>\n",
              "      <td>6.00</td>\n",
              "      <td>30.131742</td>\n",
              "      <td>1.0</td>\n",
              "      <td>1</td>\n",
              "    </tr>\n",
              "    <tr>\n",
              "      <th>4859</th>\n",
              "      <td>0</td>\n",
              "      <td>0</td>\n",
              "      <td>0</td>\n",
              "      <td>0</td>\n",
              "      <td>1</td>\n",
              "      <td>0</td>\n",
              "      <td>0</td>\n",
              "      <td>0</td>\n",
              "      <td>1</td>\n",
              "      <td>15.505326</td>\n",
              "      <td>1.0</td>\n",
              "      <td>133</td>\n",
              "      <td>83</td>\n",
              "      <td>4</td>\n",
              "      <td>0.0</td>\n",
              "      <td>1</td>\n",
              "      <td>0.0</td>\n",
              "      <td>30.26</td>\n",
              "      <td>2.20</td>\n",
              "      <td>1.0</td>\n",
              "      <td>0.0</td>\n",
              "      <td>64</td>\n",
              "      <td>0.0</td>\n",
              "      <td>1.0</td>\n",
              "      <td>1.0</td>\n",
              "      <td>0.0</td>\n",
              "      <td>0.0</td>\n",
              "      <td>0</td>\n",
              "      <td>1</td>\n",
              "      <td>0</td>\n",
              "      <td>207</td>\n",
              "      <td>93</td>\n",
              "      <td>61</td>\n",
              "      <td>145</td>\n",
              "      <td>23.08</td>\n",
              "      <td>29.308172</td>\n",
              "      <td>1.0</td>\n",
              "      <td>2</td>\n",
              "    </tr>\n",
              "    <tr>\n",
              "      <th>3264</th>\n",
              "      <td>1</td>\n",
              "      <td>0</td>\n",
              "      <td>1</td>\n",
              "      <td>0</td>\n",
              "      <td>1</td>\n",
              "      <td>0</td>\n",
              "      <td>0</td>\n",
              "      <td>1</td>\n",
              "      <td>1</td>\n",
              "      <td>39.637833</td>\n",
              "      <td>1.0</td>\n",
              "      <td>156</td>\n",
              "      <td>72</td>\n",
              "      <td>2</td>\n",
              "      <td>0.0</td>\n",
              "      <td>3</td>\n",
              "      <td>1.0</td>\n",
              "      <td>71.68</td>\n",
              "      <td>1.00</td>\n",
              "      <td>0.0</td>\n",
              "      <td>0.0</td>\n",
              "      <td>81</td>\n",
              "      <td>0.0</td>\n",
              "      <td>1.0</td>\n",
              "      <td>1.0</td>\n",
              "      <td>0.0</td>\n",
              "      <td>1.0</td>\n",
              "      <td>0</td>\n",
              "      <td>1</td>\n",
              "      <td>0</td>\n",
              "      <td>111</td>\n",
              "      <td>93</td>\n",
              "      <td>54</td>\n",
              "      <td>91</td>\n",
              "      <td>23.44</td>\n",
              "      <td>26.858258</td>\n",
              "      <td>1.0</td>\n",
              "      <td>3</td>\n",
              "    </tr>\n",
              "    <tr>\n",
              "      <th>2732</th>\n",
              "      <td>0</td>\n",
              "      <td>0</td>\n",
              "      <td>0</td>\n",
              "      <td>0</td>\n",
              "      <td>0</td>\n",
              "      <td>0</td>\n",
              "      <td>1</td>\n",
              "      <td>1</td>\n",
              "      <td>0</td>\n",
              "      <td>61.653135</td>\n",
              "      <td>1.0</td>\n",
              "      <td>183</td>\n",
              "      <td>67</td>\n",
              "      <td>2</td>\n",
              "      <td>0.0</td>\n",
              "      <td>1</td>\n",
              "      <td>1.0</td>\n",
              "      <td>34.18</td>\n",
              "      <td>1.87</td>\n",
              "      <td>1.0</td>\n",
              "      <td>0.0</td>\n",
              "      <td>88</td>\n",
              "      <td>0.0</td>\n",
              "      <td>1.0</td>\n",
              "      <td>1.0</td>\n",
              "      <td>0.0</td>\n",
              "      <td>1.0</td>\n",
              "      <td>0</td>\n",
              "      <td>1</td>\n",
              "      <td>0</td>\n",
              "      <td>200</td>\n",
              "      <td>93</td>\n",
              "      <td>50</td>\n",
              "      <td>174</td>\n",
              "      <td>18.67</td>\n",
              "      <td>25.017554</td>\n",
              "      <td>1.0</td>\n",
              "      <td>3</td>\n",
              "    </tr>\n",
              "  </tbody>\n",
              "</table>\n",
              "<p>6122 rows × 38 columns</p>\n",
              "</div>"
            ],
            "text/plain": [
              "      INTENSIVE  NEWSITEID_0  NEWSITEID_1  ...        BMI  STATIN  SBPTERTILE\n",
              "6138          1            0            0  ...  27.580476     0.0           1\n",
              "3447          0            0            0  ...  25.696259     1.0           1\n",
              "6459          0            0            0  ...  38.843269     0.0           3\n",
              "4798          0            0            0  ...  26.572146     0.0           2\n",
              "5328          1            0            0  ...  27.396015     1.0           2\n",
              "...         ...          ...          ...  ...        ...     ...         ...\n",
              "4373          1            0            1  ...  29.264266     0.0           2\n",
              "7891          0            0            0  ...  30.131742     1.0           1\n",
              "4859          0            0            0  ...  29.308172     1.0           2\n",
              "3264          1            0            1  ...  26.858258     1.0           3\n",
              "2732          0            0            0  ...  25.017554     1.0           3\n",
              "\n",
              "[6122 rows x 38 columns]"
            ]
          },
          "metadata": {
            "tags": []
          }
        }
      ]
    },
    {
      "cell_type": "code",
      "metadata": {
        "colab": {
          "base_uri": "https://localhost:8080/",
          "height": 304
        },
        "id": "3mGTr6lGA9Vi",
        "outputId": "7673fe74-7391-4618-d35c-454f9e55a411"
      },
      "source": [
        "# X_Train after pre processing\r\n",
        "display(X_train.describe())"
      ],
      "execution_count": 19,
      "outputs": [
        {
          "output_type": "display_data",
          "data": {
            "text/html": [
              "<div>\n",
              "<style scoped>\n",
              "    .dataframe tbody tr th:only-of-type {\n",
              "        vertical-align: middle;\n",
              "    }\n",
              "\n",
              "    .dataframe tbody tr th {\n",
              "        vertical-align: top;\n",
              "    }\n",
              "\n",
              "    .dataframe thead th {\n",
              "        text-align: right;\n",
              "    }\n",
              "</style>\n",
              "<table border=\"1\" class=\"dataframe\">\n",
              "  <thead>\n",
              "    <tr style=\"text-align: right;\">\n",
              "      <th></th>\n",
              "      <th>INTENSIVE</th>\n",
              "      <th>NEWSITEID_0</th>\n",
              "      <th>NEWSITEID_1</th>\n",
              "      <th>NEWSITEID_2</th>\n",
              "      <th>NEWSITEID_3</th>\n",
              "      <th>NEWSITEID_4</th>\n",
              "      <th>NEWSITEID_5</th>\n",
              "      <th>NEWSITEID_6</th>\n",
              "      <th>NEWSITEID_7</th>\n",
              "      <th>RISK10YRS</th>\n",
              "      <th>INCLUSIONFRS</th>\n",
              "      <th>SBP</th>\n",
              "      <th>DBP</th>\n",
              "      <th>N_AGENTS</th>\n",
              "      <th>NOAGENTS</th>\n",
              "      <th>SMOKE_3CAT</th>\n",
              "      <th>ASPIRIN</th>\n",
              "      <th>EGFR</th>\n",
              "      <th>SCREAT</th>\n",
              "      <th>SUB_CKD</th>\n",
              "      <th>RACE_BLACK</th>\n",
              "      <th>AGE</th>\n",
              "      <th>FEMALE</th>\n",
              "      <th>SUB_CVD</th>\n",
              "      <th>SUB_CLINICALCVD</th>\n",
              "      <th>SUB_SUBCLINICALCVD</th>\n",
              "      <th>SUB_SENIOR</th>\n",
              "      <th>RACE4_0</th>\n",
              "      <th>RACE4_1</th>\n",
              "      <th>RACE4_2</th>\n",
              "      <th>CHR</th>\n",
              "      <th>GLUR</th>\n",
              "      <th>HDL</th>\n",
              "      <th>TRR</th>\n",
              "      <th>UMALCR</th>\n",
              "      <th>BMI</th>\n",
              "      <th>STATIN</th>\n",
              "      <th>SBPTERTILE</th>\n",
              "    </tr>\n",
              "  </thead>\n",
              "  <tbody>\n",
              "    <tr>\n",
              "      <th>count</th>\n",
              "      <td>6122.000000</td>\n",
              "      <td>6122.0</td>\n",
              "      <td>6122.000000</td>\n",
              "      <td>6122.000000</td>\n",
              "      <td>6122.000000</td>\n",
              "      <td>6122.000000</td>\n",
              "      <td>6122.000000</td>\n",
              "      <td>6122.000000</td>\n",
              "      <td>6122.000000</td>\n",
              "      <td>6122.000000</td>\n",
              "      <td>6122.000000</td>\n",
              "      <td>6122.000000</td>\n",
              "      <td>6122.000000</td>\n",
              "      <td>6122.000000</td>\n",
              "      <td>6122.000000</td>\n",
              "      <td>6122.000000</td>\n",
              "      <td>6122.000000</td>\n",
              "      <td>6122.000000</td>\n",
              "      <td>6122.000000</td>\n",
              "      <td>6122.000000</td>\n",
              "      <td>6122.000000</td>\n",
              "      <td>6122.000000</td>\n",
              "      <td>6122.000000</td>\n",
              "      <td>6122.000000</td>\n",
              "      <td>6122.000000</td>\n",
              "      <td>6122.000000</td>\n",
              "      <td>6122.000000</td>\n",
              "      <td>6122.000000</td>\n",
              "      <td>6122.000000</td>\n",
              "      <td>6122.000000</td>\n",
              "      <td>6122.000000</td>\n",
              "      <td>6122.000000</td>\n",
              "      <td>6122.000000</td>\n",
              "      <td>6122.000000</td>\n",
              "      <td>6122.000000</td>\n",
              "      <td>6122.000000</td>\n",
              "      <td>6122.000000</td>\n",
              "      <td>6122.000000</td>\n",
              "    </tr>\n",
              "    <tr>\n",
              "      <th>mean</th>\n",
              "      <td>0.505227</td>\n",
              "      <td>0.0</td>\n",
              "      <td>0.186540</td>\n",
              "      <td>0.307906</td>\n",
              "      <td>0.421431</td>\n",
              "      <td>0.481705</td>\n",
              "      <td>0.505554</td>\n",
              "      <td>0.517968</td>\n",
              "      <td>0.483339</td>\n",
              "      <td>20.263013</td>\n",
              "      <td>0.624796</td>\n",
              "      <td>139.741261</td>\n",
              "      <td>78.133616</td>\n",
              "      <td>1.824567</td>\n",
              "      <td>0.094414</td>\n",
              "      <td>1.694218</td>\n",
              "      <td>0.505554</td>\n",
              "      <td>71.576599</td>\n",
              "      <td>1.078386</td>\n",
              "      <td>0.290428</td>\n",
              "      <td>0.317380</td>\n",
              "      <td>68.038876</td>\n",
              "      <td>0.351356</td>\n",
              "      <td>0.204018</td>\n",
              "      <td>0.170206</td>\n",
              "      <td>0.053251</td>\n",
              "      <td>0.284548</td>\n",
              "      <td>0.019438</td>\n",
              "      <td>0.875694</td>\n",
              "      <td>0.406076</td>\n",
              "      <td>189.800229</td>\n",
              "      <td>98.936785</td>\n",
              "      <td>52.745018</td>\n",
              "      <td>125.324894</td>\n",
              "      <td>42.124802</td>\n",
              "      <td>29.851622</td>\n",
              "      <td>0.441522</td>\n",
              "      <td>2.010291</td>\n",
              "    </tr>\n",
              "    <tr>\n",
              "      <th>std</th>\n",
              "      <td>0.500014</td>\n",
              "      <td>0.0</td>\n",
              "      <td>0.389574</td>\n",
              "      <td>0.461665</td>\n",
              "      <td>0.493829</td>\n",
              "      <td>0.499706</td>\n",
              "      <td>0.500010</td>\n",
              "      <td>0.499718</td>\n",
              "      <td>0.499763</td>\n",
              "      <td>10.896961</td>\n",
              "      <td>0.484215</td>\n",
              "      <td>15.649653</td>\n",
              "      <td>12.012795</td>\n",
              "      <td>1.034417</td>\n",
              "      <td>0.292427</td>\n",
              "      <td>0.693232</td>\n",
              "      <td>0.500010</td>\n",
              "      <td>20.605170</td>\n",
              "      <td>0.341920</td>\n",
              "      <td>0.453997</td>\n",
              "      <td>0.465495</td>\n",
              "      <td>9.431987</td>\n",
              "      <td>0.477433</td>\n",
              "      <td>0.403015</td>\n",
              "      <td>0.375844</td>\n",
              "      <td>0.224551</td>\n",
              "      <td>0.451236</td>\n",
              "      <td>0.138070</td>\n",
              "      <td>0.329957</td>\n",
              "      <td>0.491139</td>\n",
              "      <td>40.905354</td>\n",
              "      <td>13.419479</td>\n",
              "      <td>14.436544</td>\n",
              "      <td>80.482783</td>\n",
              "      <td>165.513993</td>\n",
              "      <td>5.785701</td>\n",
              "      <td>0.496609</td>\n",
              "      <td>0.820855</td>\n",
              "    </tr>\n",
              "    <tr>\n",
              "      <th>min</th>\n",
              "      <td>0.000000</td>\n",
              "      <td>0.0</td>\n",
              "      <td>0.000000</td>\n",
              "      <td>0.000000</td>\n",
              "      <td>0.000000</td>\n",
              "      <td>0.000000</td>\n",
              "      <td>0.000000</td>\n",
              "      <td>0.000000</td>\n",
              "      <td>0.000000</td>\n",
              "      <td>1.863811</td>\n",
              "      <td>0.000000</td>\n",
              "      <td>72.000000</td>\n",
              "      <td>40.000000</td>\n",
              "      <td>0.000000</td>\n",
              "      <td>0.000000</td>\n",
              "      <td>1.000000</td>\n",
              "      <td>0.000000</td>\n",
              "      <td>14.660000</td>\n",
              "      <td>0.420000</td>\n",
              "      <td>0.000000</td>\n",
              "      <td>0.000000</td>\n",
              "      <td>50.000000</td>\n",
              "      <td>0.000000</td>\n",
              "      <td>0.000000</td>\n",
              "      <td>0.000000</td>\n",
              "      <td>0.000000</td>\n",
              "      <td>0.000000</td>\n",
              "      <td>0.000000</td>\n",
              "      <td>0.000000</td>\n",
              "      <td>0.000000</td>\n",
              "      <td>80.000000</td>\n",
              "      <td>44.000000</td>\n",
              "      <td>17.000000</td>\n",
              "      <td>23.000000</td>\n",
              "      <td>1.650000</td>\n",
              "      <td>13.734281</td>\n",
              "      <td>0.000000</td>\n",
              "      <td>1.000000</td>\n",
              "    </tr>\n",
              "    <tr>\n",
              "      <th>25%</th>\n",
              "      <td>0.000000</td>\n",
              "      <td>0.0</td>\n",
              "      <td>0.000000</td>\n",
              "      <td>0.000000</td>\n",
              "      <td>0.000000</td>\n",
              "      <td>0.000000</td>\n",
              "      <td>0.000000</td>\n",
              "      <td>0.000000</td>\n",
              "      <td>0.000000</td>\n",
              "      <td>12.097237</td>\n",
              "      <td>0.000000</td>\n",
              "      <td>130.000000</td>\n",
              "      <td>70.000000</td>\n",
              "      <td>1.000000</td>\n",
              "      <td>0.000000</td>\n",
              "      <td>1.000000</td>\n",
              "      <td>0.000000</td>\n",
              "      <td>57.822500</td>\n",
              "      <td>0.860000</td>\n",
              "      <td>0.000000</td>\n",
              "      <td>0.000000</td>\n",
              "      <td>61.000000</td>\n",
              "      <td>0.000000</td>\n",
              "      <td>0.000000</td>\n",
              "      <td>0.000000</td>\n",
              "      <td>0.000000</td>\n",
              "      <td>0.000000</td>\n",
              "      <td>0.000000</td>\n",
              "      <td>1.000000</td>\n",
              "      <td>0.000000</td>\n",
              "      <td>161.000000</td>\n",
              "      <td>91.000000</td>\n",
              "      <td>43.000000</td>\n",
              "      <td>78.000000</td>\n",
              "      <td>5.610000</td>\n",
              "      <td>25.883594</td>\n",
              "      <td>0.000000</td>\n",
              "      <td>1.000000</td>\n",
              "    </tr>\n",
              "    <tr>\n",
              "      <th>50%</th>\n",
              "      <td>1.000000</td>\n",
              "      <td>0.0</td>\n",
              "      <td>0.000000</td>\n",
              "      <td>0.000000</td>\n",
              "      <td>0.000000</td>\n",
              "      <td>0.000000</td>\n",
              "      <td>1.000000</td>\n",
              "      <td>1.000000</td>\n",
              "      <td>0.000000</td>\n",
              "      <td>17.985340</td>\n",
              "      <td>1.000000</td>\n",
              "      <td>138.500000</td>\n",
              "      <td>78.000000</td>\n",
              "      <td>2.000000</td>\n",
              "      <td>0.000000</td>\n",
              "      <td>2.000000</td>\n",
              "      <td>1.000000</td>\n",
              "      <td>71.115000</td>\n",
              "      <td>1.010000</td>\n",
              "      <td>0.000000</td>\n",
              "      <td>0.000000</td>\n",
              "      <td>67.000000</td>\n",
              "      <td>0.000000</td>\n",
              "      <td>0.000000</td>\n",
              "      <td>0.000000</td>\n",
              "      <td>0.000000</td>\n",
              "      <td>0.000000</td>\n",
              "      <td>0.000000</td>\n",
              "      <td>1.000000</td>\n",
              "      <td>0.000000</td>\n",
              "      <td>186.000000</td>\n",
              "      <td>97.000000</td>\n",
              "      <td>50.000000</td>\n",
              "      <td>106.500000</td>\n",
              "      <td>9.515000</td>\n",
              "      <td>29.052644</td>\n",
              "      <td>0.000000</td>\n",
              "      <td>2.000000</td>\n",
              "    </tr>\n",
              "    <tr>\n",
              "      <th>75%</th>\n",
              "      <td>1.000000</td>\n",
              "      <td>0.0</td>\n",
              "      <td>0.000000</td>\n",
              "      <td>1.000000</td>\n",
              "      <td>1.000000</td>\n",
              "      <td>1.000000</td>\n",
              "      <td>1.000000</td>\n",
              "      <td>1.000000</td>\n",
              "      <td>1.000000</td>\n",
              "      <td>25.768375</td>\n",
              "      <td>1.000000</td>\n",
              "      <td>149.000000</td>\n",
              "      <td>86.000000</td>\n",
              "      <td>3.000000</td>\n",
              "      <td>0.000000</td>\n",
              "      <td>2.000000</td>\n",
              "      <td>1.000000</td>\n",
              "      <td>84.470000</td>\n",
              "      <td>1.220000</td>\n",
              "      <td>1.000000</td>\n",
              "      <td>1.000000</td>\n",
              "      <td>76.000000</td>\n",
              "      <td>1.000000</td>\n",
              "      <td>0.000000</td>\n",
              "      <td>0.000000</td>\n",
              "      <td>0.000000</td>\n",
              "      <td>1.000000</td>\n",
              "      <td>0.000000</td>\n",
              "      <td>1.000000</td>\n",
              "      <td>1.000000</td>\n",
              "      <td>214.000000</td>\n",
              "      <td>105.000000</td>\n",
              "      <td>60.000000</td>\n",
              "      <td>149.000000</td>\n",
              "      <td>21.740000</td>\n",
              "      <td>32.956593</td>\n",
              "      <td>1.000000</td>\n",
              "      <td>3.000000</td>\n",
              "    </tr>\n",
              "    <tr>\n",
              "      <th>max</th>\n",
              "      <td>1.000000</td>\n",
              "      <td>0.0</td>\n",
              "      <td>1.000000</td>\n",
              "      <td>1.000000</td>\n",
              "      <td>1.000000</td>\n",
              "      <td>1.000000</td>\n",
              "      <td>1.000000</td>\n",
              "      <td>1.000000</td>\n",
              "      <td>1.000000</td>\n",
              "      <td>81.187680</td>\n",
              "      <td>1.000000</td>\n",
              "      <td>231.000000</td>\n",
              "      <td>126.000000</td>\n",
              "      <td>6.000000</td>\n",
              "      <td>1.000000</td>\n",
              "      <td>3.000000</td>\n",
              "      <td>1.000000</td>\n",
              "      <td>186.190000</td>\n",
              "      <td>4.040000</td>\n",
              "      <td>1.000000</td>\n",
              "      <td>1.000000</td>\n",
              "      <td>90.000000</td>\n",
              "      <td>1.000000</td>\n",
              "      <td>1.000000</td>\n",
              "      <td>1.000000</td>\n",
              "      <td>1.000000</td>\n",
              "      <td>1.000000</td>\n",
              "      <td>1.000000</td>\n",
              "      <td>1.000000</td>\n",
              "      <td>1.000000</td>\n",
              "      <td>437.000000</td>\n",
              "      <td>286.000000</td>\n",
              "      <td>161.000000</td>\n",
              "      <td>1701.000000</td>\n",
              "      <td>4125.000000</td>\n",
              "      <td>63.932902</td>\n",
              "      <td>1.000000</td>\n",
              "      <td>3.000000</td>\n",
              "    </tr>\n",
              "  </tbody>\n",
              "</table>\n",
              "</div>"
            ],
            "text/plain": [
              "         INTENSIVE  NEWSITEID_0  ...       STATIN   SBPTERTILE\n",
              "count  6122.000000       6122.0  ...  6122.000000  6122.000000\n",
              "mean      0.505227          0.0  ...     0.441522     2.010291\n",
              "std       0.500014          0.0  ...     0.496609     0.820855\n",
              "min       0.000000          0.0  ...     0.000000     1.000000\n",
              "25%       0.000000          0.0  ...     0.000000     1.000000\n",
              "50%       1.000000          0.0  ...     0.000000     2.000000\n",
              "75%       1.000000          0.0  ...     1.000000     3.000000\n",
              "max       1.000000          0.0  ...     1.000000     3.000000\n",
              "\n",
              "[8 rows x 38 columns]"
            ]
          },
          "metadata": {
            "tags": []
          }
        }
      ]
    },
    {
      "cell_type": "markdown",
      "metadata": {
        "id": "9GwivteCmCIH"
      },
      "source": [
        "# Imbalance"
      ]
    },
    {
      "cell_type": "markdown",
      "metadata": {
        "id": "YJOYZt3gB7gV"
      },
      "source": [
        "##### SMOTETomek - Used"
      ]
    },
    {
      "cell_type": "code",
      "metadata": {
        "colab": {
          "base_uri": "https://localhost:8080/"
        },
        "id": "X5Rl4osGrtDU",
        "outputId": "54861f26-095e-4a4b-ade7-c34b5ca88ee5"
      },
      "source": [
        "from imblearn.combine import SMOTETomek\r\n",
        "\r\n",
        "smt = SMOTETomek(ratio='auto')\r\n",
        "X_smt, y_smt = smt.fit_sample(X_train, y_train)"
      ],
      "execution_count": 20,
      "outputs": [
        {
          "output_type": "stream",
          "text": [
            "/usr/local/lib/python3.6/dist-packages/sklearn/utils/deprecation.py:87: FutureWarning: Function safe_indexing is deprecated; safe_indexing is deprecated in version 0.22 and will be removed in version 0.24.\n",
            "  warnings.warn(msg, category=FutureWarning)\n",
            "/usr/local/lib/python3.6/dist-packages/sklearn/utils/deprecation.py:87: FutureWarning: Function safe_indexing is deprecated; safe_indexing is deprecated in version 0.22 and will be removed in version 0.24.\n",
            "  warnings.warn(msg, category=FutureWarning)\n"
          ],
          "name": "stderr"
        }
      ]
    },
    {
      "cell_type": "markdown",
      "metadata": {
        "id": "qaMSASFqBwep"
      },
      "source": [
        "##### TomekLinks"
      ]
    },
    {
      "cell_type": "code",
      "metadata": {
        "id": "V7b7zRoUmA_2",
        "colab": {
          "base_uri": "https://localhost:8080/",
          "height": 0
        },
        "outputId": "2416ae5f-e1d7-4176-f7df-49c7d505def4"
      },
      "source": [
        "\"\"\"\r\n",
        "from imblearn.under_sampling import TomekLinks\r\n",
        "\r\n",
        "tl = TomekLinks(return_indices=True, ratio='majority')\r\n",
        "X_tl, y_tl, id_tl = tl.fit_sample(X_train, y_train)\r\n",
        "\"\"\""
      ],
      "execution_count": 21,
      "outputs": [
        {
          "output_type": "execute_result",
          "data": {
            "application/vnd.google.colaboratory.intrinsic+json": {
              "type": "string"
            },
            "text/plain": [
              "\"\\nfrom imblearn.under_sampling import TomekLinks\\n\\ntl = TomekLinks(return_indices=True, ratio='majority')\\nX_tl, y_tl, id_tl = tl.fit_sample(X_train, y_train)\\n\""
            ]
          },
          "metadata": {
            "tags": []
          },
          "execution_count": 21
        }
      ]
    },
    {
      "cell_type": "markdown",
      "metadata": {
        "id": "KIqkVNC8B2Dg"
      },
      "source": [
        "##### Cluser Centroids"
      ]
    },
    {
      "cell_type": "code",
      "metadata": {
        "colab": {
          "base_uri": "https://localhost:8080/",
          "height": 0
        },
        "id": "70SJv1qvpjok",
        "outputId": "0d412dd9-7964-42a9-e5f4-1af2413dec44"
      },
      "source": [
        "\"\"\"\r\n",
        "from imblearn.under_sampling import ClusterCentroids\r\n",
        "\r\n",
        "cc = ClusterCentroids(random_state=42)\r\n",
        "X_cc, y_cc = cc.fit_sample(X_train, y_train)\r\n",
        "\"\"\""
      ],
      "execution_count": 22,
      "outputs": [
        {
          "output_type": "execute_result",
          "data": {
            "application/vnd.google.colaboratory.intrinsic+json": {
              "type": "string"
            },
            "text/plain": [
              "'\\nfrom imblearn.under_sampling import ClusterCentroids\\n\\ncc = ClusterCentroids(random_state=42)\\nX_cc, y_cc = cc.fit_sample(X_train, y_train)\\n'"
            ]
          },
          "metadata": {
            "tags": []
          },
          "execution_count": 22
        }
      ]
    },
    {
      "cell_type": "markdown",
      "metadata": {
        "id": "zZJIW2aMB5lf"
      },
      "source": [
        "##### SMOTE"
      ]
    },
    {
      "cell_type": "code",
      "metadata": {
        "colab": {
          "base_uri": "https://localhost:8080/",
          "height": 0
        },
        "id": "CmwezBjyq7cb",
        "outputId": "28f99feb-bdc6-43b8-d17f-59ea398e42dc"
      },
      "source": [
        "\"\"\"\r\n",
        "from imblearn.over_sampling import SMOTE\r\n",
        "\r\n",
        "smote = SMOTE(ratio='minority')\r\n",
        "X_sm, y_sm = smote.fit_sample(X_train, y_train)\r\n",
        "\"\"\""
      ],
      "execution_count": 23,
      "outputs": [
        {
          "output_type": "execute_result",
          "data": {
            "application/vnd.google.colaboratory.intrinsic+json": {
              "type": "string"
            },
            "text/plain": [
              "\"\\nfrom imblearn.over_sampling import SMOTE\\n\\nsmote = SMOTE(ratio='minority')\\nX_sm, y_sm = smote.fit_sample(X_train, y_train)\\n\""
            ]
          },
          "metadata": {
            "tags": []
          },
          "execution_count": 23
        }
      ]
    },
    {
      "cell_type": "markdown",
      "metadata": {
        "id": "RRuond2iEfEN"
      },
      "source": [
        "# Training"
      ]
    },
    {
      "cell_type": "markdown",
      "metadata": {
        "id": "sNsNzDTaE0hL"
      },
      "source": [
        "### Linear Classifier"
      ]
    },
    {
      "cell_type": "code",
      "metadata": {
        "id": "dhkjozn5Ehih"
      },
      "source": [
        "logistic = LogisticRegression()"
      ],
      "execution_count": 24,
      "outputs": []
    },
    {
      "cell_type": "code",
      "metadata": {
        "id": "zai6MxZ4phqH"
      },
      "source": [
        "linear_params={'solver' : ['liblinear', 'saga', 'sag'],\\\r\n",
        "            'max_iter': np.arange(100,300,50),\r\n",
        "           'penalty': ['l2','l1', 'elasticnet', 'none'],\r\n",
        "            'n_jobs': [-1],\r\n",
        "            'random_state': [0],\r\n",
        "            'multi_class': ['ovr']}"
      ],
      "execution_count": 25,
      "outputs": []
    },
    {
      "cell_type": "markdown",
      "metadata": {
        "id": "VzPU9c7-E4Sf"
      },
      "source": [
        "### Ensemble Model"
      ]
    },
    {
      "cell_type": "code",
      "metadata": {
        "id": "jV_iQLC8E6uF"
      },
      "source": [
        "adaboost = AdaBoostClassifier()"
      ],
      "execution_count": 26,
      "outputs": []
    },
    {
      "cell_type": "code",
      "metadata": {
        "id": "ZoWhbcHTq1RD"
      },
      "source": [
        "ensemble_params={'base_estimator' : [DecisionTreeClassifier(max_depth=1)],\\\r\n",
        "            'n_estimators': [100,200],\r\n",
        "           'learning_rate': [0.1,0.2,0.4,0.8,1],\r\n",
        "            'random_state': [0]}"
      ],
      "execution_count": 27,
      "outputs": []
    },
    {
      "cell_type": "markdown",
      "metadata": {
        "id": "lWOds5anE6-M"
      },
      "source": [
        "### Deep Learning Model"
      ]
    },
    {
      "cell_type": "code",
      "metadata": {
        "id": "edn_I15hE9SN"
      },
      "source": [
        "def create_ann_model():\r\n",
        "  # Dense - Fully connected layers\r\n",
        "  ann_model = Sequential()\r\n",
        "  # First layer with 38 inputs and 32 nodes in first hidden layer\r\n",
        "  ann_model.add(Dense(32 ,activation='relu', input_dim=38))\r\n",
        "  # Second hidden layer with 16 nodes\r\n",
        "  ann_model.add(Dense(16, activation='relu'))\r\n",
        "  # Output a binary classifiers\r\n",
        "  ann_model.add(Dense(1, activation='sigmoid'))\r\n",
        "  ann_model.compile(loss='binary_crossentropy', optimizer='adam', metrics=['AUC'])\r\n",
        "  return ann_model\r\n",
        "\r\n",
        "ann_model = KerasClassifier(build_fn=create_ann_model)\r\n"
      ],
      "execution_count": 28,
      "outputs": []
    },
    {
      "cell_type": "code",
      "metadata": {
        "id": "9w8N-H6qq9bv"
      },
      "source": [
        "dl_params = {'epochs' : [20,30],\r\n",
        "              'batch_size' : [32,64],\r\n",
        "              }"
      ],
      "execution_count": 29,
      "outputs": []
    },
    {
      "cell_type": "markdown",
      "metadata": {
        "id": "I6sQ9UQ2Gwx7"
      },
      "source": [
        "### KFold Cross Validation"
      ]
    },
    {
      "cell_type": "code",
      "metadata": {
        "id": "jy6DVogeG059"
      },
      "source": [
        "k_fold = KFold(n_splits = 10, shuffle = True, random_state=0)"
      ],
      "execution_count": 30,
      "outputs": []
    },
    {
      "cell_type": "markdown",
      "metadata": {
        "id": "Pm74cMUcG3p3"
      },
      "source": [
        "### Grid Search"
      ]
    },
    {
      "cell_type": "code",
      "metadata": {
        "id": "BrGSjpvxG4gX"
      },
      "source": [
        "# Grid search of combinations of feature extraction methods and machine learning methods with different parameters \r\n",
        "# in order to find the best combination \r\n",
        "def grid_search(model, model_name, parameters, X, y, score, kfold):\r\n",
        "    print(\"=\" * 80)\r\n",
        "    print(f\"Model: {model_name}\")\r\n",
        "    print(\"_\" * 80)\r\n",
        "    gs_clf = GridSearchCV(model, parameters, n_jobs=-1, cv=kfold, scoring=score, verbose=1)\r\n",
        "    gs_clf = gs_clf.fit(X,y)\r\n",
        "    print('Best score: ', gs_clf.best_score_)\r\n",
        "    print('Best params: ', gs_clf.best_params_)\r\n",
        "    return gs_clf.best_estimator_"
      ],
      "execution_count": 31,
      "outputs": []
    },
    {
      "cell_type": "code",
      "metadata": {
        "colab": {
          "base_uri": "https://localhost:8080/"
        },
        "id": "n61mK_25sK9Q",
        "outputId": "3da4d0f2-2e8b-42d3-caa8-1a9f7d5db620"
      },
      "source": [
        "# run grid search with the chosen model and its hyper-parameters\r\n",
        "models = [('DL', ann_model, None, 'accuracy'), ('linear',logistic, k_fold, 'roc_auc'), ('ensemble', adaboost, k_fold, 'roc_auc')]\r\n",
        "parameters = { 'DL': dl_params, 'linear' : linear_params, 'ensemble' : ensemble_params }\r\n",
        "best_models = {}\r\n",
        "\r\n",
        "for model_name, model, kfold, score in models:\r\n",
        "  best_model = grid_search(model, model_name,parameters[model_name], X_smt, y_smt, score, kfold)\r\n",
        "  best_models[model_name] =  best_model"
      ],
      "execution_count": 32,
      "outputs": [
        {
          "output_type": "stream",
          "text": [
            "================================================================================\n",
            "Model: DL\n",
            "________________________________________________________________________________\n",
            "Fitting 5 folds for each of 4 candidates, totalling 20 fits\n"
          ],
          "name": "stdout"
        },
        {
          "output_type": "stream",
          "text": [
            "[Parallel(n_jobs=-1)]: Using backend LokyBackend with 2 concurrent workers.\n",
            "[Parallel(n_jobs=-1)]: Done  20 out of  20 | elapsed:  4.8min finished\n"
          ],
          "name": "stderr"
        },
        {
          "output_type": "stream",
          "text": [
            "Epoch 1/20\n",
            "179/179 [==============================] - 1s 3ms/step - loss: 2.6766 - auc: 0.5152\n",
            "Epoch 2/20\n",
            "179/179 [==============================] - 1s 3ms/step - loss: 0.7677 - auc: 0.6428\n",
            "Epoch 3/20\n",
            "179/179 [==============================] - 1s 3ms/step - loss: 0.6641 - auc: 0.7025\n",
            "Epoch 4/20\n",
            "179/179 [==============================] - 1s 3ms/step - loss: 0.6578 - auc: 0.7166\n",
            "Epoch 5/20\n",
            "179/179 [==============================] - 1s 3ms/step - loss: 0.6146 - auc: 0.7419\n",
            "Epoch 6/20\n",
            "179/179 [==============================] - 1s 3ms/step - loss: 0.6151 - auc: 0.7363\n",
            "Epoch 7/20\n",
            "179/179 [==============================] - 1s 3ms/step - loss: 0.5980 - auc: 0.7590\n",
            "Epoch 8/20\n",
            "179/179 [==============================] - 1s 3ms/step - loss: 0.5768 - auc: 0.7722\n",
            "Epoch 9/20\n",
            "179/179 [==============================] - 1s 3ms/step - loss: 0.6036 - auc: 0.7561\n",
            "Epoch 10/20\n",
            "179/179 [==============================] - 1s 3ms/step - loss: 0.5819 - auc: 0.7699\n",
            "Epoch 11/20\n",
            "179/179 [==============================] - 1s 3ms/step - loss: 0.5873 - auc: 0.7634\n",
            "Epoch 12/20\n",
            "179/179 [==============================] - 1s 3ms/step - loss: 0.5819 - auc: 0.7670\n",
            "Epoch 13/20\n",
            "179/179 [==============================] - 1s 3ms/step - loss: 0.5796 - auc: 0.7702\n",
            "Epoch 14/20\n",
            "179/179 [==============================] - 1s 3ms/step - loss: 0.5705 - auc: 0.7781\n",
            "Epoch 15/20\n",
            "179/179 [==============================] - 1s 3ms/step - loss: 0.5696 - auc: 0.7791\n",
            "Epoch 16/20\n",
            "179/179 [==============================] - 1s 3ms/step - loss: 0.5710 - auc: 0.7847\n",
            "Epoch 17/20\n",
            "179/179 [==============================] - 1s 3ms/step - loss: 0.5732 - auc: 0.7778\n",
            "Epoch 18/20\n",
            "179/179 [==============================] - 1s 3ms/step - loss: 0.5733 - auc: 0.7787\n",
            "Epoch 19/20\n",
            "179/179 [==============================] - 1s 3ms/step - loss: 0.5655 - auc: 0.7836\n",
            "Epoch 20/20\n",
            "179/179 [==============================] - 1s 3ms/step - loss: 0.5569 - auc: 0.7894\n",
            "Best score:  0.612403651394477\n",
            "Best params:  {'batch_size': 64, 'epochs': 20}\n",
            "================================================================================\n",
            "Model: linear\n",
            "________________________________________________________________________________\n",
            "Fitting 10 folds for each of 48 candidates, totalling 480 fits\n"
          ],
          "name": "stdout"
        },
        {
          "output_type": "stream",
          "text": [
            "[Parallel(n_jobs=-1)]: Using backend LokyBackend with 2 concurrent workers.\n",
            "[Parallel(n_jobs=-1)]: Done  46 tasks      | elapsed:   54.6s\n",
            "[Parallel(n_jobs=-1)]: Done 329 tasks      | elapsed:  3.5min\n",
            "[Parallel(n_jobs=-1)]: Done 480 out of 480 | elapsed:  5.4min finished\n",
            "/usr/local/lib/python3.6/dist-packages/sklearn/linear_model/_logistic.py:1539: UserWarning: 'n_jobs' > 1 does not have any effect when 'solver' is set to 'liblinear'. Got 'n_jobs' = 2.\n",
            "  \" = {}.\".format(effective_n_jobs(self.n_jobs)))\n"
          ],
          "name": "stderr"
        },
        {
          "output_type": "stream",
          "text": [
            "Best score:  0.7453557000812006\n",
            "Best params:  {'max_iter': 100, 'multi_class': 'ovr', 'n_jobs': -1, 'penalty': 'l1', 'random_state': 0, 'solver': 'liblinear'}\n",
            "================================================================================\n",
            "Model: ensemble\n",
            "________________________________________________________________________________\n",
            "Fitting 10 folds for each of 10 candidates, totalling 100 fits\n"
          ],
          "name": "stdout"
        },
        {
          "output_type": "stream",
          "text": [
            "[Parallel(n_jobs=-1)]: Using backend LokyBackend with 2 concurrent workers.\n",
            "[Parallel(n_jobs=-1)]: Done  46 tasks      | elapsed:  2.0min\n",
            "[Parallel(n_jobs=-1)]: Done 100 out of 100 | elapsed:  4.5min finished\n"
          ],
          "name": "stderr"
        },
        {
          "output_type": "stream",
          "text": [
            "Best score:  0.9806152912714359\n",
            "Best params:  {'base_estimator': DecisionTreeClassifier(ccp_alpha=0.0, class_weight=None, criterion='gini',\n",
            "                       max_depth=1, max_features=None, max_leaf_nodes=None,\n",
            "                       min_impurity_decrease=0.0, min_impurity_split=None,\n",
            "                       min_samples_leaf=1, min_samples_split=2,\n",
            "                       min_weight_fraction_leaf=0.0, presort='deprecated',\n",
            "                       random_state=None, splitter='best'), 'learning_rate': 0.4, 'n_estimators': 200, 'random_state': 0}\n"
          ],
          "name": "stdout"
        }
      ]
    },
    {
      "cell_type": "markdown",
      "metadata": {
        "id": "tNJBByvgEh-B"
      },
      "source": [
        "# Testing + Comparing"
      ]
    },
    {
      "cell_type": "markdown",
      "metadata": {
        "id": "1M60Qgy5_Fd-"
      },
      "source": [
        "##### Linear Model"
      ]
    },
    {
      "cell_type": "code",
      "metadata": {
        "id": "xUJMbB2DEkyY",
        "colab": {
          "base_uri": "https://localhost:8080/",
          "height": 470
        },
        "outputId": "c2ce676c-ff00-40cd-df0b-47c97df6f7f8"
      },
      "source": [
        "linear_model = best_models[\"linear\"]\r\n",
        "prediction = linear_model.predict(X_test)\r\n",
        "print(classification_report(y_test, prediction))\r\n",
        "plot_confusion_matrix(linear_model, X_test, y_test, normalize=None)\r\n",
        "print(f\"AUC Score: {roc_auc_score(y_test,prediction)}\")\r\n",
        "print(\"=====================\")"
      ],
      "execution_count": 33,
      "outputs": [
        {
          "output_type": "stream",
          "text": [
            "              precision    recall  f1-score   support\n",
            "\n",
            "       False       0.96      0.68      0.80      2467\n",
            "        True       0.10      0.59      0.18       157\n",
            "\n",
            "    accuracy                           0.67      2624\n",
            "   macro avg       0.53      0.63      0.49      2624\n",
            "weighted avg       0.91      0.67      0.76      2624\n",
            "\n",
            "AUC Score: 0.6332854830256197\n",
            "=====================\n"
          ],
          "name": "stdout"
        },
        {
          "output_type": "display_data",
          "data": {
            "image/png": "[encoded data removed]",
            "text/plain": [
              "<Figure size 432x288 with 2 Axes>"
            ]
          },
          "metadata": {
            "tags": []
          }
        }
      ]
    },
    {
      "cell_type": "markdown",
      "metadata": {
        "id": "RrtqDkmpKg_y"
      },
      "source": [
        "##### Ensemble Model"
      ]
    },
    {
      "cell_type": "code",
      "metadata": {
        "colab": {
          "base_uri": "https://localhost:8080/",
          "height": 470
        },
        "id": "U3dxtAgZym5N",
        "outputId": "36b2021c-af8d-4ccd-d5a3-831b91512d83"
      },
      "source": [
        "ensemble = best_models[\"ensemble\"]\r\n",
        "prediction = ensemble.predict(X_test)\r\n",
        "print(classification_report(y_test, prediction))\r\n",
        "print(f\"AUC Score: {roc_auc_score(y_test,prediction)}\")\r\n",
        "plot_confusion_matrix(ensemble, X_test, y_test, normalize=None)\r\n",
        "print(\"=====================\")\r\n"
      ],
      "execution_count": 34,
      "outputs": [
        {
          "output_type": "stream",
          "text": [
            "              precision    recall  f1-score   support\n",
            "\n",
            "       False       0.94      1.00      0.97      2467\n",
            "        True       0.30      0.02      0.04       157\n",
            "\n",
            "    accuracy                           0.94      2624\n",
            "   macro avg       0.62      0.51      0.50      2624\n",
            "weighted avg       0.90      0.94      0.91      2624\n",
            "\n",
            "AUC Score: 0.5081354129283614\n",
            "=====================\n"
          ],
          "name": "stdout"
        },
        {
          "output_type": "display_data",
          "data": {
            "image/png": "[encoded data removed]",
            "text/plain": [
              "<Figure size 432x288 with 2 Axes>"
            ]
          },
          "metadata": {
            "tags": []
          }
        }
      ]
    },
    {
      "cell_type": "markdown",
      "metadata": {
        "id": "2q0r3IWdKnYN"
      },
      "source": [
        "##### DL model"
      ]
    },
    {
      "cell_type": "code",
      "metadata": {
        "colab": {
          "base_uri": "https://localhost:8080/"
        },
        "id": "dawBTWhlA2c8",
        "outputId": "935d1118-ad5e-4d44-9486-3f6da5d44af5"
      },
      "source": [
        "dl_model = best_models[\"DL\"]\r\n",
        "prediction = dl_model.predict(X_test)\r\n",
        "print(classification_report(y_test, prediction))\r\n",
        "print(f\"AUC Score: {roc_auc_score(y_test,prediction)}\")\r\n",
        "print(confusion_matrix(y_test,prediction , normalize=None))\r\n",
        "print(\"=====================\")"
      ],
      "execution_count": 35,
      "outputs": [
        {
          "output_type": "stream",
          "text": [
            "              precision    recall  f1-score   support\n",
            "\n",
            "       False       0.96      0.54      0.69      2467\n",
            "        True       0.08      0.66      0.15       157\n",
            "\n",
            "    accuracy                           0.55      2624\n",
            "   macro avg       0.52      0.60      0.42      2624\n",
            "weighted avg       0.91      0.55      0.66      2624\n",
            "\n",
            "AUC Score: 0.6032004626677234\n",
            "[[1342 1125]\n",
            " [  53  104]]\n",
            "=====================\n"
          ],
          "name": "stdout"
        },
        {
          "output_type": "stream",
          "text": [
            "/usr/local/lib/python3.6/dist-packages/tensorflow/python/keras/engine/sequential.py:450: UserWarning: `model.predict_classes()` is deprecated and will be removed after 2021-01-01. Please use instead:* `np.argmax(model.predict(x), axis=-1)`,   if your model does multi-class classification   (e.g. if it uses a `softmax` last-layer activation).* `(model.predict(x) > 0.5).astype(\"int32\")`,   if your model does binary classification   (e.g. if it uses a `sigmoid` last-layer activation).\n",
            "  warnings.warn('`model.predict_classes()` is deprecated and '\n"
          ],
          "name": "stderr"
        }
      ]
    },
    {
      "cell_type": "markdown",
      "metadata": {
        "id": "1F3Jnhu7VXXl"
      },
      "source": [
        "# Work Explanation"
      ]
    },
    {
      "cell_type": "markdown",
      "metadata": {
        "id": "73nIhVE4WZ1r"
      },
      "source": [
        "First, we split the data to 70% train and 30% test. \r\n",
        "Then, we explored the train set, preprocessed the train and test set and realized:\r\n",
        "1. The dataset has missing values only in the \"NEWSITEID\" column and becuase it's a categorical column that says the site ID in which the participant was treated, we decided to replace the missing values with value of \"0\" (new value that it does not relate to any sample).  \r\n",
        "2. We encoded the columns that are non-numerical (i.e., boolean, categorical and ordinal) to numerical ones by: **binary encoder** for the RACE4 and NEWSITEID columns, for the INTENSIVE column we used 1 for 'Intensive' and 0 for 'Regular', and for the boolean columns we used **Ordinal encoder**.  \r\n",
        "3. We used **standard scaler** to scale the numerical columns (\"RISK10YRS\",\t\"SBP\",\t\"DBP\", \"EGFR\",\t\"SCREAT\", \"CHR\",\t\"GLUR\"\t,\"HDL\",\t\"TRR\",\t\"UMALCR\",\t\"BMI\", \"AGE\"). But the performance was degraded. And we also used **MinMaxScaler** - which improved the ensemble model but degraded the DL model.  \r\n",
        "4. We used imbalance techniques such as: SMOTE, TomekLinks, Cluster Centroids, and SMOTETomek, and we chose **SMOTETomek** that outperformed the other techniques. \r\n",
        "\r\n",
        "\\* The preprocess phase was learned on the train and applied on the train and test sets. \r\n",
        "\r\n",
        "Because the data are imbalanced and from a clinical trial we evaluated the models with **Auc_roc** and **Recall-Precision** metrics. These metrics were chosen because classifing TP is more important than classifying TN, and we prefer high FP than high FN because it's clinical data. \r\n",
        "\r\n",
        "**For each model we performed a grid search to find the best hyper-paramters.**\r\n",
        "\r\n",
        "For the linear model we checked logistic regression and linearSVM, and the logistic regression with Standard Scaler outperformed the linearSVM. The results on the test set were: AUC = 0.633, Recall = 0.61, Precision = 0.10\r\n",
        "\r\n",
        "For the ensemble model we checked Adaboost with DecisionTree classifier and RandomForest classifier. The Adaboost model with MinMaxScaler outperformed RandomForest. The results on the test set were: \r\n",
        "AUC = 0.533, Recall = 0.08, Precision = 0.25 \r\n",
        "\r\n",
        "For the DL model we used ANN with 2 hidden layers. The results were: AUC = 0.618, Recall = 0.68, Precision = 0.09"
      ]
    },
    {
      "cell_type": "markdown",
      "metadata": {
        "id": "cGHV0Jaz340A"
      },
      "source": [
        "# Summary Results"
      ]
    },
    {
      "cell_type": "markdown",
      "metadata": {
        "id": "0R2QniZE4AtK"
      },
      "source": [
        "We comapred between the three models' results and found out that the linear model AUC is greater than the others, but the Recall of the DL model is the greatest. If we prefer to balance between recall and precision we will choose the linear model, but if the recall is the only metric that is important we will choose the DL model. "
      ]
    }
  ]
}
